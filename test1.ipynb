{
 "cells": [
  {
   "cell_type": "code",
   "execution_count": 3,
   "id": "31801393-06dd-444d-accd-2dea7be2c5cb",
   "metadata": {},
   "outputs": [],
   "source": [
    "import numpy as np"
   ]
  },
  {
   "cell_type": "markdown",
   "id": "7957b8d2-7015-4618-8eab-f96f06f143a1",
   "metadata": {
    "tags": []
   },
   "source": [
    "## Let's set up some examples to play with\n",
    "First, let's start with x, y, z vectors"
   ]
  },
  {
   "cell_type": "code",
   "execution_count": 6,
   "id": "b126e819-7f3b-4ccb-af3a-5d67d7e15f9c",
   "metadata": {},
   "outputs": [],
   "source": [
    "x = np.array([ [1], [0], [0]])\n",
    "y = np.array([ [0], [1], [0]])\n",
    "z = np.array([ [0], [0], [1]])"
   ]
  },
  {
   "cell_type": "code",
   "execution_count": 9,
   "id": "b6785f98-9ccd-4fbd-b937-77843246ad48",
   "metadata": {
    "tags": []
   },
   "outputs": [
    {
     "data": {
      "text/plain": [
       "array([[1, 0, 0],\n",
       "       [0, 0, 0],\n",
       "       [0, 0, 0]])"
      ]
     },
     "execution_count": 9,
     "metadata": {},
     "output_type": "execute_result"
    }
   ],
   "source": [
    "x.dot(x.T)\n",
    "\n"
   ]
  },
  {
   "cell_type": "markdown",
   "id": "00baafc4-cdf3-4a04-ad2b-aa5bbd1ae616",
   "metadata": {
    "tags": []
   },
   "source": [
    "# Here we go! \n",
    "## cool subtitle"
   ]
  },
  {
   "cell_type": "code",
   "execution_count": null,
   "id": "bbb1b2d6-041f-45ee-ad2c-0dc4e4965ba0",
   "metadata": {},
   "outputs": [],
   "source": []
  }
 ],
 "metadata": {
  "kernelspec": {
   "display_name": "Python 3 (ipykernel)",
   "language": "python",
   "name": "python3"
  },
  "language_info": {
   "codemirror_mode": {
    "name": "ipython",
    "version": 3
   },
   "file_extension": ".py",
   "mimetype": "text/x-python",
   "name": "python",
   "nbconvert_exporter": "python",
   "pygments_lexer": "ipython3",
   "version": "3.7.3"
  }
 },
 "nbformat": 4,
 "nbformat_minor": 5
}
