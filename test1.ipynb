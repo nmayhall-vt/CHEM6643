{
 "cells": [
  {
   "cell_type": "code",
   "execution_count": 1,
   "id": "31801393-06dd-444d-accd-2dea7be2c5cb",
   "metadata": {},
   "outputs": [],
   "source": [
    "import numpy as np"
   ]
  },
  {
   "cell_type": "markdown",
   "id": "7957b8d2-7015-4618-8eab-f96f06f143a1",
   "metadata": {
    "tags": []
   },
   "source": [
    "## Let's set up some examples to play with\n",
    "First, let's start with x, y, z vectors"
   ]
  },
  {
   "cell_type": "code",
   "execution_count": 6,
   "id": "b126e819-7f3b-4ccb-af3a-5d67d7e15f9c",
   "metadata": {},
   "outputs": [],
   "source": [
    "x = np.array([1, 0, 0])\n",
    "y = np.array([0, 1, 0])\n",
    "z = np.array([0, 0, 1])"
   ]
  },
  {
   "cell_type": "code",
   "execution_count": 13,
   "id": "b6785f98-9ccd-4fbd-b937-77843246ad48",
   "metadata": {
    "tags": []
   },
   "outputs": [
    {
     "data": {
      "text/plain": [
       "1"
      ]
     },
     "execution_count": 13,
     "metadata": {},
     "output_type": "execute_result"
    }
   ],
   "source": [
    "x.dot(x)"
   ]
  },
  {
   "cell_type": "code",
   "execution_count": null,
   "id": "d3eda96c-7e19-4f81-b1d6-07fdf3f69bab",
   "metadata": {},
   "outputs": [],
   "source": []
  }
 ],
 "metadata": {
  "kernelspec": {
   "display_name": "Python 3 (ipykernel)",
   "language": "python",
   "name": "python3"
  },
  "language_info": {
   "codemirror_mode": {
    "name": "ipython",
    "version": 3
   },
   "file_extension": ".py",
   "mimetype": "text/x-python",
   "name": "python",
   "nbconvert_exporter": "python",
   "pygments_lexer": "ipython3",
   "version": "3.7.3"
  }
 },
 "nbformat": 4,
 "nbformat_minor": 5
}
