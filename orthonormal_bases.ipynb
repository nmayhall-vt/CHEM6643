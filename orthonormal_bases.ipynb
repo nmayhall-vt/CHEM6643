{
 "cells": [
  {
   "cell_type": "markdown",
   "id": "688ed20d-3f61-4e60-8f53-919384659a9a",
   "metadata": {
    "tags": []
   },
   "source": [
    "# 3D Basis\n",
    "Define some basis vectors for a 3D space - and show that they are complete (i.e., resolve the identity)"
   ]
  },
  {
   "cell_type": "markdown",
   "id": "a7fa8a10-0628-4637-9331-26c69549f5c5",
   "metadata": {
    "tags": []
   },
   "source": [
    "## Define Basis"
   ]
  },
  {
   "cell_type": "code",
   "execution_count": 158,
   "id": "2f87aa8f-f629-4f6e-9e0f-b23f24254971",
   "metadata": {},
   "outputs": [
    {
     "data": {
      "text/plain": [
       "3-element Array{Float64,1}:\n",
       " 0.0\n",
       " 0.0\n",
       " 1.0"
      ]
     },
     "execution_count": 158,
     "metadata": {},
     "output_type": "execute_result"
    }
   ],
   "source": [
    "x = [1.0, 0.0, 0.0]\n",
    "y = [0.0, 1.0, 0.0]\n",
    "z = [0.0, 0.0, 1.0]"
   ]
  },
  {
   "cell_type": "code",
   "execution_count": 159,
   "id": "62e4f79a-38dc-473c-8b0d-854d21f9f83d",
   "metadata": {},
   "outputs": [
    {
     "data": {
      "text/plain": [
       "3×3 Array{Float64,2}:\n",
       " 1.0  0.0  0.0\n",
       " 0.0  1.0  0.0\n",
       " 0.0  0.0  1.0"
      ]
     },
     "execution_count": 159,
     "metadata": {},
     "output_type": "execute_result"
    }
   ],
   "source": [
    "x*x' + y*y' + z*z'"
   ]
  },
  {
   "cell_type": "markdown",
   "id": "5ba80dab-868f-4775-bc77-ed0796580641",
   "metadata": {
    "tags": []
   },
   "source": [
    "## Create random vector in this basis"
   ]
  },
  {
   "cell_type": "code",
   "execution_count": 160,
   "id": "5f8da093-962c-4c2e-b938-f9d3a4aff47f",
   "metadata": {},
   "outputs": [
    {
     "data": {
      "text/plain": [
       "3-element Array{Float64,1}:\n",
       " 0.12527461072277712\n",
       " 0.6455124206047502\n",
       " 0.9927349122607008"
      ]
     },
     "execution_count": 160,
     "metadata": {},
     "output_type": "execute_result"
    }
   ],
   "source": [
    "# all numbers will be positive - meaning it will be in positive quadrant\n",
    "v = rand(3)"
   ]
  },
  {
   "cell_type": "markdown",
   "id": "39047ef2-0fd6-4007-b7fe-4e22796e559a",
   "metadata": {},
   "source": [
    "Show that the projectors do what we expect:"
   ]
  },
  {
   "cell_type": "code",
   "execution_count": 161,
   "id": "7cd95376-7a0c-478e-af5d-6eb8842b0cbf",
   "metadata": {},
   "outputs": [
    {
     "data": {
      "text/plain": [
       "3-element Array{Float64,1}:\n",
       " 0.12527461072277712\n",
       " 0.0\n",
       " 0.0"
      ]
     },
     "execution_count": 161,
     "metadata": {},
     "output_type": "execute_result"
    }
   ],
   "source": [
    "x * x' * v"
   ]
  },
  {
   "cell_type": "code",
   "execution_count": 162,
   "id": "7c446072-6135-49ad-8ba1-857fd4dbacad",
   "metadata": {},
   "outputs": [
    {
     "data": {
      "text/plain": [
       "3-element Array{Float64,1}:\n",
       " 0.0\n",
       " 0.6455124206047502\n",
       " 0.0"
      ]
     },
     "execution_count": 162,
     "metadata": {},
     "output_type": "execute_result"
    }
   ],
   "source": [
    "y * y' * v"
   ]
  },
  {
   "cell_type": "code",
   "execution_count": 163,
   "id": "680a4812-e5d5-405f-af4d-c3fcf1f397e0",
   "metadata": {},
   "outputs": [
    {
     "data": {
      "text/plain": [
       "3-element Array{Float64,1}:\n",
       " 0.0\n",
       " 0.0\n",
       " 0.9927349122607008"
      ]
     },
     "execution_count": 163,
     "metadata": {},
     "output_type": "execute_result"
    }
   ],
   "source": [
    "z * z' * v"
   ]
  },
  {
   "cell_type": "markdown",
   "id": "826727b7-10c2-4eaf-9424-a276631271f5",
   "metadata": {
    "tags": []
   },
   "source": [
    "## Define a new random orthonormal basis"
   ]
  },
  {
   "cell_type": "markdown",
   "id": "ff1bf39b-7817-40b5-9f80-cc120199d98f",
   "metadata": {},
   "source": [
    "start with 3 random vectors"
   ]
  },
  {
   "cell_type": "code",
   "execution_count": 164,
   "id": "7ff0468e-cd1b-44cf-8825-655536059da7",
   "metadata": {},
   "outputs": [],
   "source": [
    "u1 = rand(3) .- .5\n",
    "u2 = rand(3) .- .5\n",
    "u3 = rand(3) .- .5;"
   ]
  },
  {
   "cell_type": "markdown",
   "id": "5671ae1a-cf87-4e26-b749-b91ec6c019e0",
   "metadata": {},
   "source": [
    "these are not orthonormal!"
   ]
  },
  {
   "cell_type": "code",
   "execution_count": 165,
   "id": "40afb89f-584b-46c0-ad7f-e5b194110fd1",
   "metadata": {},
   "outputs": [
    {
     "data": {
      "text/plain": [
       "0.2780775299802672"
      ]
     },
     "execution_count": 165,
     "metadata": {},
     "output_type": "execute_result"
    }
   ],
   "source": [
    "u1'*u1"
   ]
  },
  {
   "cell_type": "code",
   "execution_count": 166,
   "id": "8cafda59-48f8-4989-b43e-fdd775ba150d",
   "metadata": {},
   "outputs": [
    {
     "data": {
      "text/plain": [
       "-0.2828965518879313"
      ]
     },
     "execution_count": 166,
     "metadata": {},
     "output_type": "execute_result"
    }
   ],
   "source": [
    "u1'*u2"
   ]
  },
  {
   "cell_type": "markdown",
   "id": "c7fdca6a-e41f-4510-91b2-a91c7067d300",
   "metadata": {},
   "source": [
    "First let's orthogonalize them using a method called Gram-Schmidt [read more](https://en.wikipedia.org/wiki/Gram%E2%80%93Schmidt_process)."
   ]
  },
  {
   "cell_type": "code",
   "execution_count": 167,
   "id": "599a7d7d-187f-4acd-8200-0a312c271229",
   "metadata": {},
   "outputs": [],
   "source": [
    "# project out u1 from u2\n",
    "u2 = u2 - u1*u1'*u2 / (u1'*u1)\n",
    "\n",
    "# project out u2 and u1 from u3\n",
    "u3 = u3 - u1*u1'*u3 / (u1'*u1)\n",
    "u3 = u3 - u2*u2'*u3 / (u2'*u2);"
   ]
  },
  {
   "cell_type": "code",
   "execution_count": 168,
   "id": "10bd5234-8c69-45c5-b970-e86a6b491211",
   "metadata": {},
   "outputs": [
    {
     "name": "stdout",
     "output_type": "stream",
     "text": [
      "-1.0408340855860843e-17\n",
      "-4.163336342344337e-17\n",
      "5.204170427930421e-18\n"
     ]
    }
   ],
   "source": [
    "# see that they are orthogonal now:\n",
    "println(u1'*u2)\n",
    "println(u1'*u3)\n",
    "println(u2'*u3)"
   ]
  },
  {
   "cell_type": "markdown",
   "id": "75289046-5dad-41d6-b0da-fff53c3c245d",
   "metadata": {},
   "source": [
    "Now normalize each vector"
   ]
  },
  {
   "cell_type": "code",
   "execution_count": 169,
   "id": "673ed819-91ba-4270-89e0-a5317ba4cc8c",
   "metadata": {},
   "outputs": [],
   "source": [
    "u1 = u1 / sqrt(u1'*u1)\n",
    "u2 = u2 / sqrt(u2'*u2)\n",
    "u3 = u3 / sqrt(u3'*u3);"
   ]
  },
  {
   "cell_type": "code",
   "execution_count": 170,
   "id": "f6fa8e21-47d3-4503-8bf6-ecb17aa28d6d",
   "metadata": {},
   "outputs": [
    {
     "name": "stdout",
     "output_type": "stream",
     "text": [
      "1.0\n",
      "0.9999999999999999\n",
      "1.0\n"
     ]
    }
   ],
   "source": [
    "println(u1'*u1)\n",
    "println(u2'*u2)\n",
    "println(u3'*u3)"
   ]
  },
  {
   "cell_type": "markdown",
   "id": "948028bc-ed72-4c95-81ff-5b125514319d",
   "metadata": {},
   "source": [
    "Our basis looks completely different from the original x, y, z basis"
   ]
  },
  {
   "cell_type": "code",
   "execution_count": 171,
   "id": "5cb75c75-eb51-4829-8b13-2bd6c684121d",
   "metadata": {},
   "outputs": [
    {
     "data": {
      "text/plain": [
       "3×3 Array{Float64,2}:\n",
       " 1.0  0.0  0.0\n",
       " 0.0  1.0  0.0\n",
       " 0.0  0.0  1.0"
      ]
     },
     "metadata": {},
     "output_type": "display_data"
    },
    {
     "data": {
      "text/plain": [
       "3×3 Array{Float64,2}:\n",
       " 0.719007   0.414842  -0.557616\n",
       " 0.041243   0.77544    0.630073\n",
       " 0.693778  -0.476025   0.540437"
      ]
     },
     "metadata": {},
     "output_type": "display_data"
    }
   ],
   "source": [
    "# Create matrix where the columns are the basis vectors\n",
    "basis1 = hcat(x, y, z) \n",
    "basis2 = hcat(u1, u2, u3);\n",
    "\n",
    "display(basis1)\n",
    "display(basis2)"
   ]
  },
  {
   "cell_type": "markdown",
   "id": "96e45864-6853-4b45-a126-68b4443d5113",
   "metadata": {},
   "source": [
    "however, both are orthonormal"
   ]
  },
  {
   "cell_type": "code",
   "execution_count": 172,
   "id": "4b373721-b13b-4e96-99b9-04ade4e72528",
   "metadata": {},
   "outputs": [
    {
     "data": {
      "text/plain": [
       "3×3 Array{Float64,2}:\n",
       " 1.0  0.0  0.0\n",
       " 0.0  1.0  0.0\n",
       " 0.0  0.0  1.0"
      ]
     },
     "metadata": {},
     "output_type": "display_data"
    },
    {
     "data": {
      "text/plain": [
       "3×3 Array{Float64,2}:\n",
       "  1.0          -1.66533e-16  -3.88578e-16\n",
       " -1.66533e-16   1.0           2.22045e-16\n",
       " -3.88578e-16   2.22045e-16   1.0"
      ]
     },
     "metadata": {},
     "output_type": "display_data"
    }
   ],
   "source": [
    "display(basis1'*basis1)\n",
    "display(basis2'*basis2)"
   ]
  },
  {
   "cell_type": "markdown",
   "id": "af709090-71cd-4366-9c50-67435df1dba4",
   "metadata": {
    "tags": []
   },
   "source": [
    "## Now rotate our vector to this new random orthonormal basis"
   ]
  },
  {
   "cell_type": "markdown",
   "id": "bda43e81-de1d-42f7-a9f1-c3b860764f3c",
   "metadata": {},
   "source": [
    "$$\\newcommand{\\braket}[2]{\\left\\langle{#1}\\middle|{#2}\\right\\rangle}$$\n",
    "\n",
    "Remember that in order to perform a change of basis, we need to find the overlap matrix \n",
    "$$\n",
    "b_{i} = \\sum_j S_{ij} c_{j}\n",
    "$$\n",
    "where \n",
    "$$ \\require{physics} S_{ij} = \\braket{w_i}{u_j} $$"
   ]
  },
  {
   "cell_type": "code",
   "execution_count": 173,
   "id": "058ba111-d692-41a5-879d-ea6f2cf3c9c2",
   "metadata": {},
   "outputs": [
    {
     "data": {
      "text/plain": [
       "3×3 Array{Float64,2}:\n",
       "  0.719007  0.041243   0.693778\n",
       "  0.414842  0.77544   -0.476025\n",
       " -0.557616  0.630073   0.540437"
      ]
     },
     "metadata": {},
     "output_type": "display_data"
    },
    {
     "data": {
      "text/plain": [
       "3×3 Array{Float64,2}:\n",
       "  1.0          -3.88578e-16   1.66533e-16\n",
       " -3.88578e-16   1.0          -1.66533e-16\n",
       "  1.66533e-16  -1.66533e-16   1.0"
      ]
     },
     "metadata": {},
     "output_type": "display_data"
    },
    {
     "data": {
      "text/plain": [
       "3×3 Array{Float64,2}:\n",
       "  1.0          -1.66533e-16  -3.88578e-16\n",
       " -1.66533e-16   1.0           2.22045e-16\n",
       " -3.88578e-16   2.22045e-16   1.0"
      ]
     },
     "metadata": {},
     "output_type": "display_data"
    }
   ],
   "source": [
    "# Define overlap matrix\n",
    "S = basis2'*basis1\n",
    "\n",
    "display(S)\n",
    "\n",
    "# this matrix is orthogonal\n",
    "display(S'*S)\n",
    "display(S*S')"
   ]
  },
  {
   "cell_type": "code",
   "execution_count": 174,
   "id": "61394797-f5a5-4bad-b1b3-5d76dd33f695",
   "metadata": {},
   "outputs": [
    {
     "data": {
      "text/plain": [
       "3-element Array{Float64,1}:\n",
       " 0.805433836566942\n",
       " 0.07995872572788154\n",
       " 0.8733759536196528"
      ]
     },
     "execution_count": 174,
     "metadata": {},
     "output_type": "execute_result"
    }
   ],
   "source": [
    "# now convert our vector from basis1 to basis2\n",
    "v2 = S*v"
   ]
  },
  {
   "cell_type": "markdown",
   "id": "74cc0332-9889-4b81-8898-0c5ac0d49300",
   "metadata": {},
   "source": [
    "Here, we can show that the two vectors look different _if_ plotted in the same coordinate system"
   ]
  },
  {
   "cell_type": "code",
   "execution_count": 175,
   "id": "20c451ca-962e-4a02-8218-a66545be0cda",
   "metadata": {},
   "outputs": [
    {
     "data": {
      "image/svg+xml": [
       "<?xml version=\"1.0\" encoding=\"utf-8\"?>\n",
       "<svg xmlns=\"http://www.w3.org/2000/svg\" xmlns:xlink=\"http://www.w3.org/1999/xlink\" width=\"600\" height=\"400\" viewBox=\"0 0 2400 1600\">\n",
       "<defs>\n",
       "  <clipPath id=\"clip910\">\n",
       "    <rect x=\"0\" y=\"0\" width=\"2400\" height=\"1600\"/>\n",
       "  </clipPath>\n",
       "</defs>\n",
       "<path clip-path=\"url(#clip910)\" d=\"\n",
       "M0 1600 L2400 1600 L2400 0 L0 0  Z\n",
       "  \" fill=\"#ffffff\" fill-rule=\"evenodd\" fill-opacity=\"1\"/>\n",
       "<defs>\n",
       "  <clipPath id=\"clip911\">\n",
       "    <rect x=\"480\" y=\"0\" width=\"1681\" height=\"1600\"/>\n",
       "  </clipPath>\n",
       "</defs>\n",
       "<defs>\n",
       "  <clipPath id=\"clip912\">\n",
       "    <rect x=\"179\" y=\"47\" width=\"2174\" height=\"1440\"/>\n",
       "  </clipPath>\n",
       "</defs>\n",
       "<path clip-path=\"url(#clip912)\" d=\"\n",
       "M179.654 1401.43 L179.654 302.298 L975.064 47.2441 L2352.76 132.262 L2352.76 1231.39 L1557.35 1486.45 L179.654 1401.43  Z\n",
       "  \" fill=\"#ffffff\" fill-rule=\"evenodd\" fill-opacity=\"1\"/>\n",
       "<polyline clip-path=\"url(#clip912)\" style=\"stroke:#000000; stroke-width:2; stroke-opacity:0.1; fill:none\" points=\"\n",
       "  218.645,1403.84 1014.06,1148.78 \n",
       "  \"/>\n",
       "<polyline clip-path=\"url(#clip912)\" style=\"stroke:#000000; stroke-width:2; stroke-opacity:0.1; fill:none\" points=\"\n",
       "  1014.06,1148.78 1014.06,49.6503 \n",
       "  \"/>\n",
       "<polyline clip-path=\"url(#clip912)\" style=\"stroke:#000000; stroke-width:2; stroke-opacity:0.1; fill:none\" points=\"\n",
       "  543.572,1423.89 1338.98,1168.83 \n",
       "  \"/>\n",
       "<polyline clip-path=\"url(#clip912)\" style=\"stroke:#000000; stroke-width:2; stroke-opacity:0.1; fill:none\" points=\"\n",
       "  1338.98,1168.83 1338.98,69.7017 \n",
       "  \"/>\n",
       "<polyline clip-path=\"url(#clip912)\" style=\"stroke:#000000; stroke-width:2; stroke-opacity:0.1; fill:none\" points=\"\n",
       "  868.499,1443.94 1663.91,1188.88 \n",
       "  \"/>\n",
       "<polyline clip-path=\"url(#clip912)\" style=\"stroke:#000000; stroke-width:2; stroke-opacity:0.1; fill:none\" points=\"\n",
       "  1663.91,1188.88 1663.91,89.7531 \n",
       "  \"/>\n",
       "<polyline clip-path=\"url(#clip912)\" style=\"stroke:#000000; stroke-width:2; stroke-opacity:0.1; fill:none\" points=\"\n",
       "  1193.43,1463.99 1988.84,1208.94 \n",
       "  \"/>\n",
       "<polyline clip-path=\"url(#clip912)\" style=\"stroke:#000000; stroke-width:2; stroke-opacity:0.1; fill:none\" points=\"\n",
       "  1988.84,1208.94 1988.84,109.805 \n",
       "  \"/>\n",
       "<polyline clip-path=\"url(#clip912)\" style=\"stroke:#000000; stroke-width:2; stroke-opacity:0.1; fill:none\" points=\"\n",
       "  1518.35,1484.04 2313.76,1228.99 \n",
       "  \"/>\n",
       "<polyline clip-path=\"url(#clip912)\" style=\"stroke:#000000; stroke-width:2; stroke-opacity:0.1; fill:none\" points=\"\n",
       "  2313.76,1228.99 2313.76,129.856 \n",
       "  \"/>\n",
       "<polyline clip-path=\"url(#clip910)\" style=\"stroke:#000000; stroke-width:4; stroke-opacity:1; fill:none\" points=\"\n",
       "  179.654,1401.43 1557.35,1486.45 \n",
       "  \"/>\n",
       "<polyline clip-path=\"url(#clip910)\" style=\"stroke:#000000; stroke-width:4; stroke-opacity:1; fill:none\" points=\"\n",
       "  218.645,1403.84 228.19,1400.78 \n",
       "  \"/>\n",
       "<polyline clip-path=\"url(#clip910)\" style=\"stroke:#000000; stroke-width:4; stroke-opacity:1; fill:none\" points=\"\n",
       "  543.572,1423.89 553.117,1420.83 \n",
       "  \"/>\n",
       "<polyline clip-path=\"url(#clip910)\" style=\"stroke:#000000; stroke-width:4; stroke-opacity:1; fill:none\" points=\"\n",
       "  868.499,1443.94 878.044,1440.88 \n",
       "  \"/>\n",
       "<polyline clip-path=\"url(#clip910)\" style=\"stroke:#000000; stroke-width:4; stroke-opacity:1; fill:none\" points=\"\n",
       "  1193.43,1463.99 1202.97,1460.93 \n",
       "  \"/>\n",
       "<polyline clip-path=\"url(#clip910)\" style=\"stroke:#000000; stroke-width:4; stroke-opacity:1; fill:none\" points=\"\n",
       "  1518.35,1484.04 1527.9,1480.98 \n",
       "  \"/>\n",
       "<path clip-path=\"url(#clip910)\" d=\"M 0 0 M148.43 1452.48 L178.106 1452.48 L178.106 1456.41 L148.43 1456.41 L148.43 1452.48 Z\" fill=\"#000000\" fill-rule=\"evenodd\" fill-opacity=\"1\" /><path clip-path=\"url(#clip910)\" d=\"M 0 0 M183.985 1465.37 L191.624 1465.37 L191.624 1439.01 L183.314 1440.67 L183.314 1436.41 L191.578 1434.75 L196.254 1434.75 L196.254 1465.37 L203.893 1465.37 L203.893 1469.31 L183.985 1469.31 L183.985 1465.37 Z\" fill=\"#000000\" fill-rule=\"evenodd\" fill-opacity=\"1\" /><path clip-path=\"url(#clip910)\" d=\"M 0 0 M208.962 1463.43 L213.846 1463.43 L213.846 1469.31 L208.962 1469.31 L208.962 1463.43 Z\" fill=\"#000000\" fill-rule=\"evenodd\" fill-opacity=\"1\" /><path clip-path=\"url(#clip910)\" d=\"M 0 0 M228.916 1437.83 Q225.304 1437.83 223.476 1441.39 Q221.67 1444.93 221.67 1452.06 Q221.67 1459.17 223.476 1462.73 Q225.304 1466.28 228.916 1466.28 Q232.55 1466.28 234.355 1462.73 Q236.184 1459.17 236.184 1452.06 Q236.184 1444.93 234.355 1441.39 Q232.55 1437.83 228.916 1437.83 M228.916 1434.12 Q234.726 1434.12 237.781 1438.73 Q240.86 1443.31 240.86 1452.06 Q240.86 1460.79 237.781 1465.4 Q234.726 1469.98 228.916 1469.98 Q223.105 1469.98 220.027 1465.4 Q216.971 1460.79 216.971 1452.06 Q216.971 1443.31 220.027 1438.73 Q223.105 1434.12 228.916 1434.12 Z\" fill=\"#000000\" fill-rule=\"evenodd\" fill-opacity=\"1\" /><path clip-path=\"url(#clip910)\" d=\"M 0 0 M473.241 1472.53 L502.917 1472.53 L502.917 1476.47 L473.241 1476.47 L473.241 1472.53 Z\" fill=\"#000000\" fill-rule=\"evenodd\" fill-opacity=\"1\" /><path clip-path=\"url(#clip910)\" d=\"M 0 0 M517.987 1457.88 Q514.375 1457.88 512.547 1461.44 Q510.741 1464.98 510.741 1472.11 Q510.741 1479.22 512.547 1482.79 Q514.375 1486.33 517.987 1486.33 Q521.621 1486.33 523.426 1482.79 Q525.255 1479.22 525.255 1472.11 Q525.255 1464.98 523.426 1461.44 Q521.621 1457.88 517.987 1457.88 M517.987 1454.17 Q523.797 1454.17 526.852 1458.78 Q529.931 1463.36 529.931 1472.11 Q529.931 1480.84 526.852 1485.45 Q523.797 1490.03 517.987 1490.03 Q512.176 1490.03 509.098 1485.45 Q506.042 1480.84 506.042 1472.11 Q506.042 1463.36 509.098 1458.78 Q512.176 1454.17 517.987 1454.17 Z\" fill=\"#000000\" fill-rule=\"evenodd\" fill-opacity=\"1\" /><path clip-path=\"url(#clip910)\" d=\"M 0 0 M535 1483.48 L539.885 1483.48 L539.885 1489.36 L535 1489.36 L535 1483.48 Z\" fill=\"#000000\" fill-rule=\"evenodd\" fill-opacity=\"1\" /><path clip-path=\"url(#clip910)\" d=\"M 0 0 M545 1454.8 L563.357 1454.8 L563.357 1458.73 L549.283 1458.73 L549.283 1467.21 Q550.301 1466.86 551.32 1466.7 Q552.338 1466.51 553.357 1466.51 Q559.144 1466.51 562.523 1469.68 Q565.903 1472.85 565.903 1478.27 Q565.903 1483.85 562.431 1486.95 Q558.959 1490.03 552.639 1490.03 Q550.463 1490.03 548.195 1489.66 Q545.949 1489.29 543.542 1488.55 L543.542 1483.85 Q545.625 1484.98 547.848 1485.54 Q550.07 1486.1 552.547 1486.1 Q556.551 1486.1 558.889 1483.99 Q561.227 1481.88 561.227 1478.27 Q561.227 1474.66 558.889 1472.55 Q556.551 1470.45 552.547 1470.45 Q550.672 1470.45 548.797 1470.86 Q546.945 1471.28 545 1472.16 L545 1454.8 Z\" fill=\"#000000\" fill-rule=\"evenodd\" fill-opacity=\"1\" /><path clip-path=\"url(#clip910)\" d=\"M 0 0 M826.016 1477.93 Q822.405 1477.93 820.576 1481.49 Q818.77 1485.04 818.77 1492.17 Q818.77 1499.27 820.576 1502.84 Q822.405 1506.38 826.016 1506.38 Q829.65 1506.38 831.456 1502.84 Q833.284 1499.27 833.284 1492.17 Q833.284 1485.04 831.456 1481.49 Q829.65 1477.93 826.016 1477.93 M826.016 1474.23 Q831.826 1474.23 834.881 1478.83 Q837.96 1483.42 837.96 1492.17 Q837.96 1500.89 834.881 1505.5 Q831.826 1510.08 826.016 1510.08 Q820.206 1510.08 817.127 1505.5 Q814.071 1500.89 814.071 1492.17 Q814.071 1483.42 817.127 1478.83 Q820.206 1474.23 826.016 1474.23 Z\" fill=\"#000000\" fill-rule=\"evenodd\" fill-opacity=\"1\" /><path clip-path=\"url(#clip910)\" d=\"M 0 0 M843.03 1503.53 L847.914 1503.53 L847.914 1509.41 L843.03 1509.41 L843.03 1503.53 Z\" fill=\"#000000\" fill-rule=\"evenodd\" fill-opacity=\"1\" /><path clip-path=\"url(#clip910)\" d=\"M 0 0 M862.983 1477.93 Q859.372 1477.93 857.543 1481.49 Q855.738 1485.04 855.738 1492.17 Q855.738 1499.27 857.543 1502.84 Q859.372 1506.38 862.983 1506.38 Q866.617 1506.38 868.423 1502.84 Q870.252 1499.27 870.252 1492.17 Q870.252 1485.04 868.423 1481.49 Q866.617 1477.93 862.983 1477.93 M862.983 1474.23 Q868.793 1474.23 871.849 1478.83 Q874.928 1483.42 874.928 1492.17 Q874.928 1500.89 871.849 1505.5 Q868.793 1510.08 862.983 1510.08 Q857.173 1510.08 854.094 1505.5 Q851.039 1500.89 851.039 1492.17 Q851.039 1483.42 854.094 1478.83 Q857.173 1474.23 862.983 1474.23 Z\" fill=\"#000000\" fill-rule=\"evenodd\" fill-opacity=\"1\" /><path clip-path=\"url(#clip910)\" d=\"M 0 0 M1151.44 1497.98 Q1147.83 1497.98 1146 1501.55 Q1144.2 1505.09 1144.2 1512.22 Q1144.2 1519.32 1146 1522.89 Q1147.83 1526.43 1151.44 1526.43 Q1155.07 1526.43 1156.88 1522.89 Q1158.71 1519.32 1158.71 1512.22 Q1158.71 1505.09 1156.88 1501.55 Q1155.07 1497.98 1151.44 1497.98 M1151.44 1494.28 Q1157.25 1494.28 1160.31 1498.88 Q1163.39 1503.47 1163.39 1512.22 Q1163.39 1520.94 1160.31 1525.55 Q1157.25 1530.13 1151.44 1530.13 Q1145.63 1530.13 1142.55 1525.55 Q1139.5 1520.94 1139.5 1512.22 Q1139.5 1503.47 1142.55 1498.88 Q1145.63 1494.28 1151.44 1494.28 Z\" fill=\"#000000\" fill-rule=\"evenodd\" fill-opacity=\"1\" /><path clip-path=\"url(#clip910)\" d=\"M 0 0 M1168.45 1523.58 L1173.34 1523.58 L1173.34 1529.46 L1168.45 1529.46 L1168.45 1523.58 Z\" fill=\"#000000\" fill-rule=\"evenodd\" fill-opacity=\"1\" /><path clip-path=\"url(#clip910)\" d=\"M 0 0 M1178.45 1494.9 L1196.81 1494.9 L1196.81 1498.84 L1182.74 1498.84 L1182.74 1507.31 Q1183.76 1506.96 1184.77 1506.8 Q1185.79 1506.62 1186.81 1506.62 Q1192.6 1506.62 1195.98 1509.79 Q1199.36 1512.96 1199.36 1518.37 Q1199.36 1523.95 1195.88 1527.05 Q1192.41 1530.13 1186.09 1530.13 Q1183.92 1530.13 1181.65 1529.76 Q1179.4 1529.39 1177 1528.65 L1177 1523.95 Q1179.08 1525.09 1181.3 1525.64 Q1183.52 1526.2 1186 1526.2 Q1190.01 1526.2 1192.34 1524.09 Q1194.68 1521.99 1194.68 1518.37 Q1194.68 1514.76 1192.34 1512.66 Q1190.01 1510.55 1186 1510.55 Q1184.13 1510.55 1182.25 1510.97 Q1180.4 1511.38 1178.45 1512.26 L1178.45 1494.9 Z\" fill=\"#000000\" fill-rule=\"evenodd\" fill-opacity=\"1\" /><path clip-path=\"url(#clip910)\" d=\"M 0 0 M1466.25 1545.58 L1473.89 1545.58 L1473.89 1519.21 L1465.58 1520.88 L1465.58 1516.62 L1473.84 1514.95 L1478.52 1514.95 L1478.52 1545.58 L1486.16 1545.58 L1486.16 1549.51 L1466.25 1549.51 L1466.25 1545.58 Z\" fill=\"#000000\" fill-rule=\"evenodd\" fill-opacity=\"1\" /><path clip-path=\"url(#clip910)\" d=\"M 0 0 M1491.23 1543.63 L1496.11 1543.63 L1496.11 1549.51 L1491.23 1549.51 L1491.23 1543.63 Z\" fill=\"#000000\" fill-rule=\"evenodd\" fill-opacity=\"1\" /><path clip-path=\"url(#clip910)\" d=\"M 0 0 M1511.18 1518.03 Q1507.57 1518.03 1505.74 1521.6 Q1503.94 1525.14 1503.94 1532.27 Q1503.94 1539.37 1505.74 1542.94 Q1507.57 1546.48 1511.18 1546.48 Q1514.82 1546.48 1516.62 1542.94 Q1518.45 1539.37 1518.45 1532.27 Q1518.45 1525.14 1516.62 1521.6 Q1514.82 1518.03 1511.18 1518.03 M1511.18 1514.33 Q1516.99 1514.33 1520.05 1518.94 Q1523.13 1523.52 1523.13 1532.27 Q1523.13 1541 1520.05 1545.6 Q1516.99 1550.18 1511.18 1550.18 Q1505.37 1550.18 1502.29 1545.6 Q1499.24 1541 1499.24 1532.27 Q1499.24 1523.52 1502.29 1518.94 Q1505.37 1514.33 1511.18 1514.33 Z\" fill=\"#000000\" fill-rule=\"evenodd\" fill-opacity=\"1\" /><polyline clip-path=\"url(#clip912)\" style=\"stroke:#000000; stroke-width:2; stroke-opacity:0.1; fill:none\" points=\"\n",
       "  1579.86,1479.23 202.165,1394.21 \n",
       "  \"/>\n",
       "<polyline clip-path=\"url(#clip912)\" style=\"stroke:#000000; stroke-width:2; stroke-opacity:0.1; fill:none\" points=\"\n",
       "  202.165,1394.21 202.165,295.08 \n",
       "  \"/>\n",
       "<polyline clip-path=\"url(#clip912)\" style=\"stroke:#000000; stroke-width:2; stroke-opacity:0.1; fill:none\" points=\"\n",
       "  1767.45,1419.08 389.762,1334.06 \n",
       "  \"/>\n",
       "<polyline clip-path=\"url(#clip912)\" style=\"stroke:#000000; stroke-width:2; stroke-opacity:0.1; fill:none\" points=\"\n",
       "  389.762,1334.06 389.762,234.926 \n",
       "  \"/>\n",
       "<polyline clip-path=\"url(#clip912)\" style=\"stroke:#000000; stroke-width:2; stroke-opacity:0.1; fill:none\" points=\"\n",
       "  1955.05,1358.92 577.359,1273.9 \n",
       "  \"/>\n",
       "<polyline clip-path=\"url(#clip912)\" style=\"stroke:#000000; stroke-width:2; stroke-opacity:0.1; fill:none\" points=\"\n",
       "  577.359,1273.9 577.359,174.771 \n",
       "  \"/>\n",
       "<polyline clip-path=\"url(#clip912)\" style=\"stroke:#000000; stroke-width:2; stroke-opacity:0.1; fill:none\" points=\"\n",
       "  2142.65,1298.77 764.956,1213.75 \n",
       "  \"/>\n",
       "<polyline clip-path=\"url(#clip912)\" style=\"stroke:#000000; stroke-width:2; stroke-opacity:0.1; fill:none\" points=\"\n",
       "  764.956,1213.75 764.956,114.617 \n",
       "  \"/>\n",
       "<polyline clip-path=\"url(#clip912)\" style=\"stroke:#000000; stroke-width:2; stroke-opacity:0.1; fill:none\" points=\"\n",
       "  2330.24,1238.61 952.553,1153.59 \n",
       "  \"/>\n",
       "<polyline clip-path=\"url(#clip912)\" style=\"stroke:#000000; stroke-width:2; stroke-opacity:0.1; fill:none\" points=\"\n",
       "  952.553,1153.59 952.553,54.4626 \n",
       "  \"/>\n",
       "<polyline clip-path=\"url(#clip910)\" style=\"stroke:#000000; stroke-width:4; stroke-opacity:1; fill:none\" points=\"\n",
       "  1557.35,1486.45 2352.76,1231.39 \n",
       "  \"/>\n",
       "<polyline clip-path=\"url(#clip910)\" style=\"stroke:#000000; stroke-width:4; stroke-opacity:1; fill:none\" points=\"\n",
       "  1579.86,1479.23 1563.32,1478.21 \n",
       "  \"/>\n",
       "<polyline clip-path=\"url(#clip910)\" style=\"stroke:#000000; stroke-width:4; stroke-opacity:1; fill:none\" points=\"\n",
       "  1767.45,1419.08 1750.92,1418.05 \n",
       "  \"/>\n",
       "<polyline clip-path=\"url(#clip910)\" style=\"stroke:#000000; stroke-width:4; stroke-opacity:1; fill:none\" points=\"\n",
       "  1955.05,1358.92 1938.52,1357.9 \n",
       "  \"/>\n",
       "<polyline clip-path=\"url(#clip910)\" style=\"stroke:#000000; stroke-width:4; stroke-opacity:1; fill:none\" points=\"\n",
       "  2142.65,1298.77 2126.12,1297.75 \n",
       "  \"/>\n",
       "<polyline clip-path=\"url(#clip910)\" style=\"stroke:#000000; stroke-width:4; stroke-opacity:1; fill:none\" points=\"\n",
       "  2330.24,1238.61 2313.71,1237.59 \n",
       "  \"/>\n",
       "<path clip-path=\"url(#clip910)\" d=\"M 0 0 M1557.64 1527.87 L1587.32 1527.87 L1587.32 1531.81 L1557.64 1531.81 L1557.64 1527.87 Z\" fill=\"#000000\" fill-rule=\"evenodd\" fill-opacity=\"1\" /><path clip-path=\"url(#clip910)\" d=\"M 0 0 M1593.2 1540.77 L1600.84 1540.77 L1600.84 1514.4 L1592.53 1516.07 L1592.53 1511.81 L1600.79 1510.14 L1605.47 1510.14 L1605.47 1540.77 L1613.1 1540.77 L1613.1 1544.7 L1593.2 1544.7 L1593.2 1540.77 Z\" fill=\"#000000\" fill-rule=\"evenodd\" fill-opacity=\"1\" /><path clip-path=\"url(#clip910)\" d=\"M 0 0 M1618.17 1538.82 L1623.06 1538.82 L1623.06 1544.7 L1618.17 1544.7 L1618.17 1538.82 Z\" fill=\"#000000\" fill-rule=\"evenodd\" fill-opacity=\"1\" /><path clip-path=\"url(#clip910)\" d=\"M 0 0 M1638.13 1513.22 Q1634.52 1513.22 1632.69 1516.78 Q1630.88 1520.33 1630.88 1527.46 Q1630.88 1534.56 1632.69 1538.13 Q1634.52 1541.67 1638.13 1541.67 Q1641.76 1541.67 1643.57 1538.13 Q1645.4 1534.56 1645.4 1527.46 Q1645.4 1520.33 1643.57 1516.78 Q1641.76 1513.22 1638.13 1513.22 M1638.13 1509.52 Q1643.94 1509.52 1646.99 1514.12 Q1650.07 1518.71 1650.07 1527.46 Q1650.07 1536.18 1646.99 1540.79 Q1643.94 1545.37 1638.13 1545.37 Q1632.32 1545.37 1629.24 1540.79 Q1626.18 1536.18 1626.18 1527.46 Q1626.18 1518.71 1629.24 1514.12 Q1632.32 1509.52 1638.13 1509.52 Z\" fill=\"#000000\" fill-rule=\"evenodd\" fill-opacity=\"1\" /><path clip-path=\"url(#clip910)\" d=\"M 0 0 M1745.12 1467.72 L1774.8 1467.72 L1774.8 1471.65 L1745.12 1471.65 L1745.12 1467.72 Z\" fill=\"#000000\" fill-rule=\"evenodd\" fill-opacity=\"1\" /><path clip-path=\"url(#clip910)\" d=\"M 0 0 M1789.87 1453.07 Q1786.26 1453.07 1784.43 1456.63 Q1782.62 1460.17 1782.62 1467.3 Q1782.62 1474.41 1784.43 1477.97 Q1786.26 1481.51 1789.87 1481.51 Q1793.5 1481.51 1795.31 1477.97 Q1797.14 1474.41 1797.14 1467.3 Q1797.14 1460.17 1795.31 1456.63 Q1793.5 1453.07 1789.87 1453.07 M1789.87 1449.36 Q1795.68 1449.36 1798.73 1453.97 Q1801.81 1458.55 1801.81 1467.3 Q1801.81 1476.03 1798.73 1480.64 Q1795.68 1485.22 1789.87 1485.22 Q1784.06 1485.22 1780.98 1480.64 Q1777.92 1476.03 1777.92 1467.3 Q1777.92 1458.55 1780.98 1453.97 Q1784.06 1449.36 1789.87 1449.36 Z\" fill=\"#000000\" fill-rule=\"evenodd\" fill-opacity=\"1\" /><path clip-path=\"url(#clip910)\" d=\"M 0 0 M1806.88 1478.67 L1811.77 1478.67 L1811.77 1484.55 L1806.88 1484.55 L1806.88 1478.67 Z\" fill=\"#000000\" fill-rule=\"evenodd\" fill-opacity=\"1\" /><path clip-path=\"url(#clip910)\" d=\"M 0 0 M1816.88 1449.99 L1835.24 1449.99 L1835.24 1453.92 L1821.16 1453.92 L1821.16 1462.39 Q1822.18 1462.05 1823.2 1461.89 Q1824.22 1461.7 1825.24 1461.7 Q1831.03 1461.7 1834.4 1464.87 Q1837.78 1468.04 1837.78 1473.46 Q1837.78 1479.04 1834.31 1482.14 Q1830.84 1485.22 1824.52 1485.22 Q1822.34 1485.22 1820.08 1484.85 Q1817.83 1484.48 1815.42 1483.74 L1815.42 1479.04 Q1817.51 1480.17 1819.73 1480.73 Q1821.95 1481.28 1824.43 1481.28 Q1828.43 1481.28 1830.77 1479.18 Q1833.11 1477.07 1833.11 1473.46 Q1833.11 1469.85 1830.77 1467.74 Q1828.43 1465.64 1824.43 1465.64 Q1822.55 1465.64 1820.68 1466.05 Q1818.83 1466.47 1816.88 1467.35 L1816.88 1449.99 Z\" fill=\"#000000\" fill-rule=\"evenodd\" fill-opacity=\"1\" /><path clip-path=\"url(#clip910)\" d=\"M 0 0 M1960.57 1392.91 Q1956.96 1392.91 1955.13 1396.48 Q1953.32 1400.02 1953.32 1407.15 Q1953.32 1414.25 1955.13 1417.82 Q1956.96 1421.36 1960.57 1421.36 Q1964.2 1421.36 1966.01 1417.82 Q1967.84 1414.25 1967.84 1407.15 Q1967.84 1400.02 1966.01 1396.48 Q1964.2 1392.91 1960.57 1392.91 M1960.57 1389.21 Q1966.38 1389.21 1969.43 1393.81 Q1972.51 1398.4 1972.51 1407.15 Q1972.51 1415.87 1969.43 1420.48 Q1966.38 1425.06 1960.57 1425.06 Q1954.76 1425.06 1951.68 1420.48 Q1948.62 1415.87 1948.62 1407.15 Q1948.62 1398.4 1951.68 1393.81 Q1954.76 1389.21 1960.57 1389.21 Z\" fill=\"#000000\" fill-rule=\"evenodd\" fill-opacity=\"1\" /><path clip-path=\"url(#clip910)\" d=\"M 0 0 M1977.58 1418.51 L1982.46 1418.51 L1982.46 1424.39 L1977.58 1424.39 L1977.58 1418.51 Z\" fill=\"#000000\" fill-rule=\"evenodd\" fill-opacity=\"1\" /><path clip-path=\"url(#clip910)\" d=\"M 0 0 M1997.53 1392.91 Q1993.92 1392.91 1992.09 1396.48 Q1990.29 1400.02 1990.29 1407.15 Q1990.29 1414.25 1992.09 1417.82 Q1993.92 1421.36 1997.53 1421.36 Q2001.17 1421.36 2002.97 1417.82 Q2004.8 1414.25 2004.8 1407.15 Q2004.8 1400.02 2002.97 1396.48 Q2001.17 1392.91 1997.53 1392.91 M1997.53 1389.21 Q2003.34 1389.21 2006.4 1393.81 Q2009.48 1398.4 2009.48 1407.15 Q2009.48 1415.87 2006.4 1420.48 Q2003.34 1425.06 1997.53 1425.06 Q1991.72 1425.06 1988.65 1420.48 Q1985.59 1415.87 1985.59 1407.15 Q1985.59 1398.4 1988.65 1393.81 Q1991.72 1389.21 1997.53 1389.21 Z\" fill=\"#000000\" fill-rule=\"evenodd\" fill-opacity=\"1\" /><path clip-path=\"url(#clip910)\" d=\"M 0 0 M2148.66 1332.76 Q2145.05 1332.76 2143.22 1336.32 Q2141.42 1339.86 2141.42 1346.99 Q2141.42 1354.1 2143.22 1357.66 Q2145.05 1361.21 2148.66 1361.21 Q2152.3 1361.21 2154.1 1357.66 Q2155.93 1354.1 2155.93 1346.99 Q2155.93 1339.86 2154.1 1336.32 Q2152.3 1332.76 2148.66 1332.76 M2148.66 1329.05 Q2154.47 1329.05 2157.53 1333.66 Q2160.61 1338.24 2160.61 1346.99 Q2160.61 1355.72 2157.53 1360.33 Q2154.47 1364.91 2148.66 1364.91 Q2142.85 1364.91 2139.77 1360.33 Q2136.72 1355.72 2136.72 1346.99 Q2136.72 1338.24 2139.77 1333.66 Q2142.85 1329.05 2148.66 1329.05 Z\" fill=\"#000000\" fill-rule=\"evenodd\" fill-opacity=\"1\" /><path clip-path=\"url(#clip910)\" d=\"M 0 0 M2165.68 1358.36 L2170.56 1358.36 L2170.56 1364.24 L2165.68 1364.24 L2165.68 1358.36 Z\" fill=\"#000000\" fill-rule=\"evenodd\" fill-opacity=\"1\" /><path clip-path=\"url(#clip910)\" d=\"M 0 0 M2175.68 1329.68 L2194.03 1329.68 L2194.03 1333.61 L2179.96 1333.61 L2179.96 1342.09 Q2180.98 1341.74 2181.99 1341.58 Q2183.01 1341.39 2184.03 1341.39 Q2189.82 1341.39 2193.2 1344.56 Q2196.58 1347.73 2196.58 1353.15 Q2196.58 1358.73 2193.11 1361.83 Q2189.63 1364.91 2183.31 1364.91 Q2181.14 1364.91 2178.87 1364.54 Q2176.62 1364.17 2174.22 1363.43 L2174.22 1358.73 Q2176.3 1359.86 2178.52 1360.42 Q2180.74 1360.97 2183.22 1360.97 Q2187.23 1360.97 2189.56 1358.87 Q2191.9 1356.76 2191.9 1353.15 Q2191.9 1349.54 2189.56 1347.43 Q2187.23 1345.33 2183.22 1345.33 Q2181.35 1345.33 2179.47 1345.74 Q2177.62 1346.16 2175.68 1347.04 L2175.68 1329.68 Z\" fill=\"#000000\" fill-rule=\"evenodd\" fill-opacity=\"1\" /><path clip-path=\"url(#clip910)\" d=\"M 0 0 M2326.14 1300.15 L2333.78 1300.15 L2333.78 1273.78 L2325.47 1275.45 L2325.47 1271.19 L2333.74 1269.52 L2338.41 1269.52 L2338.41 1300.15 L2346.05 1300.15 L2346.05 1304.08 L2326.14 1304.08 L2326.14 1300.15 Z\" fill=\"#000000\" fill-rule=\"evenodd\" fill-opacity=\"1\" /><path clip-path=\"url(#clip910)\" d=\"M 0 0 M2351.12 1298.2 L2356 1298.2 L2356 1304.08 L2351.12 1304.08 L2351.12 1298.2 Z\" fill=\"#000000\" fill-rule=\"evenodd\" fill-opacity=\"1\" /><path clip-path=\"url(#clip910)\" d=\"M 0 0 M2371.07 1272.6 Q2367.46 1272.6 2365.63 1276.17 Q2363.83 1279.71 2363.83 1286.84 Q2363.83 1293.95 2365.63 1297.51 Q2367.46 1301.05 2371.07 1301.05 Q2374.71 1301.05 2376.51 1297.51 Q2378.34 1293.95 2378.34 1286.84 Q2378.34 1279.71 2376.51 1276.17 Q2374.71 1272.6 2371.07 1272.6 M2371.07 1268.9 Q2376.88 1268.9 2379.94 1273.51 Q2383.02 1278.09 2383.02 1286.84 Q2383.02 1295.57 2379.94 1300.17 Q2376.88 1304.76 2371.07 1304.76 Q2365.26 1304.76 2362.18 1300.17 Q2359.13 1295.57 2359.13 1286.84 Q2359.13 1278.09 2362.18 1273.51 Q2365.26 1268.9 2371.07 1268.9 Z\" fill=\"#000000\" fill-rule=\"evenodd\" fill-opacity=\"1\" /><polyline clip-path=\"url(#clip912)\" style=\"stroke:#000000; stroke-width:2; stroke-opacity:0.1; fill:none\" points=\"\n",
       "  179.654,1370.32 975.064,1115.27 \n",
       "  \"/>\n",
       "<polyline clip-path=\"url(#clip912)\" style=\"stroke:#000000; stroke-width:2; stroke-opacity:0.1; fill:none\" points=\"\n",
       "  975.064,1115.27 2352.76,1200.29 \n",
       "  \"/>\n",
       "<polyline clip-path=\"url(#clip912)\" style=\"stroke:#000000; stroke-width:2; stroke-opacity:0.1; fill:none\" points=\"\n",
       "  179.654,1111.09 975.064,856.039 \n",
       "  \"/>\n",
       "<polyline clip-path=\"url(#clip912)\" style=\"stroke:#000000; stroke-width:2; stroke-opacity:0.1; fill:none\" points=\"\n",
       "  975.064,856.039 2352.76,941.057 \n",
       "  \"/>\n",
       "<polyline clip-path=\"url(#clip912)\" style=\"stroke:#000000; stroke-width:2; stroke-opacity:0.1; fill:none\" points=\"\n",
       "  179.654,851.864 975.064,596.81 \n",
       "  \"/>\n",
       "<polyline clip-path=\"url(#clip912)\" style=\"stroke:#000000; stroke-width:2; stroke-opacity:0.1; fill:none\" points=\"\n",
       "  975.064,596.81 2352.76,681.828 \n",
       "  \"/>\n",
       "<polyline clip-path=\"url(#clip912)\" style=\"stroke:#000000; stroke-width:2; stroke-opacity:0.1; fill:none\" points=\"\n",
       "  179.654,592.635 975.064,337.581 \n",
       "  \"/>\n",
       "<polyline clip-path=\"url(#clip912)\" style=\"stroke:#000000; stroke-width:2; stroke-opacity:0.1; fill:none\" points=\"\n",
       "  975.064,337.581 2352.76,422.599 \n",
       "  \"/>\n",
       "<polyline clip-path=\"url(#clip912)\" style=\"stroke:#000000; stroke-width:2; stroke-opacity:0.1; fill:none\" points=\"\n",
       "  179.654,333.406 975.064,78.3516 \n",
       "  \"/>\n",
       "<polyline clip-path=\"url(#clip912)\" style=\"stroke:#000000; stroke-width:2; stroke-opacity:0.1; fill:none\" points=\"\n",
       "  975.064,78.3516 2352.76,163.37 \n",
       "  \"/>\n",
       "<polyline clip-path=\"url(#clip910)\" style=\"stroke:#000000; stroke-width:4; stroke-opacity:1; fill:none\" points=\"\n",
       "  179.654,1401.43 179.654,302.298 \n",
       "  \"/>\n",
       "<polyline clip-path=\"url(#clip910)\" style=\"stroke:#000000; stroke-width:4; stroke-opacity:1; fill:none\" points=\"\n",
       "  179.654,1370.32 189.199,1367.26 \n",
       "  \"/>\n",
       "<polyline clip-path=\"url(#clip910)\" style=\"stroke:#000000; stroke-width:4; stroke-opacity:1; fill:none\" points=\"\n",
       "  179.654,1111.09 189.199,1108.03 \n",
       "  \"/>\n",
       "<polyline clip-path=\"url(#clip910)\" style=\"stroke:#000000; stroke-width:4; stroke-opacity:1; fill:none\" points=\"\n",
       "  179.654,851.864 189.199,848.803 \n",
       "  \"/>\n",
       "<polyline clip-path=\"url(#clip910)\" style=\"stroke:#000000; stroke-width:4; stroke-opacity:1; fill:none\" points=\"\n",
       "  179.654,592.635 189.199,589.574 \n",
       "  \"/>\n",
       "<polyline clip-path=\"url(#clip910)\" style=\"stroke:#000000; stroke-width:4; stroke-opacity:1; fill:none\" points=\"\n",
       "  179.654,333.406 189.199,330.345 \n",
       "  \"/>\n",
       "<path clip-path=\"url(#clip910)\" d=\"M 0 0 M63.2236 1370.77 L92.8994 1370.77 L92.8994 1374.71 L63.2236 1374.71 L63.2236 1370.77 Z\" fill=\"#000000\" fill-rule=\"evenodd\" fill-opacity=\"1\" /><path clip-path=\"url(#clip910)\" d=\"M 0 0 M98.779 1383.67 L106.418 1383.67 L106.418 1357.3 L98.1077 1358.97 L98.1077 1354.71 L106.372 1353.04 L111.047 1353.04 L111.047 1383.67 L118.686 1383.67 L118.686 1387.6 L98.779 1387.6 L98.779 1383.67 Z\" fill=\"#000000\" fill-rule=\"evenodd\" fill-opacity=\"1\" /><path clip-path=\"url(#clip910)\" d=\"M 0 0 M123.756 1381.72 L128.64 1381.72 L128.64 1387.6 L123.756 1387.6 L123.756 1381.72 Z\" fill=\"#000000\" fill-rule=\"evenodd\" fill-opacity=\"1\" /><path clip-path=\"url(#clip910)\" d=\"M 0 0 M143.709 1356.12 Q140.098 1356.12 138.27 1359.69 Q136.464 1363.23 136.464 1370.36 Q136.464 1377.46 138.27 1381.03 Q140.098 1384.57 143.709 1384.57 Q147.344 1384.57 149.149 1381.03 Q150.978 1377.46 150.978 1370.36 Q150.978 1363.23 149.149 1359.69 Q147.344 1356.12 143.709 1356.12 M143.709 1352.42 Q149.519 1352.42 152.575 1357.02 Q155.654 1361.61 155.654 1370.36 Q155.654 1379.08 152.575 1383.69 Q149.519 1388.27 143.709 1388.27 Q137.899 1388.27 134.82 1383.69 Q131.765 1379.08 131.765 1370.36 Q131.765 1361.61 134.82 1357.02 Q137.899 1352.42 143.709 1352.42 Z\" fill=\"#000000\" fill-rule=\"evenodd\" fill-opacity=\"1\" /><path clip-path=\"url(#clip910)\" d=\"M 0 0 M62.9921 1111.54 L92.6679 1111.54 L92.6679 1115.48 L62.9921 1115.48 L62.9921 1111.54 Z\" fill=\"#000000\" fill-rule=\"evenodd\" fill-opacity=\"1\" /><path clip-path=\"url(#clip910)\" d=\"M 0 0 M107.737 1096.89 Q104.126 1096.89 102.297 1100.46 Q100.492 1104 100.492 1111.13 Q100.492 1118.23 102.297 1121.8 Q104.126 1125.34 107.737 1125.34 Q111.371 1125.34 113.177 1121.8 Q115.006 1118.23 115.006 1111.13 Q115.006 1104 113.177 1100.46 Q111.371 1096.89 107.737 1096.89 M107.737 1093.19 Q113.547 1093.19 116.603 1097.79 Q119.682 1102.38 119.682 1111.13 Q119.682 1119.85 116.603 1124.46 Q113.547 1129.04 107.737 1129.04 Q101.927 1129.04 98.8484 1124.46 Q95.7929 1119.85 95.7929 1111.13 Q95.7929 1102.38 98.8484 1097.79 Q101.927 1093.19 107.737 1093.19 Z\" fill=\"#000000\" fill-rule=\"evenodd\" fill-opacity=\"1\" /><path clip-path=\"url(#clip910)\" d=\"M 0 0 M124.751 1122.49 L129.635 1122.49 L129.635 1128.37 L124.751 1128.37 L124.751 1122.49 Z\" fill=\"#000000\" fill-rule=\"evenodd\" fill-opacity=\"1\" /><path clip-path=\"url(#clip910)\" d=\"M 0 0 M134.751 1093.81 L153.107 1093.81 L153.107 1097.75 L139.033 1097.75 L139.033 1106.22 Q140.052 1105.87 141.07 1105.71 Q142.089 1105.53 143.107 1105.53 Q148.894 1105.53 152.274 1108.7 Q155.654 1111.87 155.654 1117.29 Q155.654 1122.86 152.181 1125.97 Q148.709 1129.04 142.39 1129.04 Q140.214 1129.04 137.945 1128.67 Q135.7 1128.3 133.293 1127.56 L133.293 1122.86 Q135.376 1124 137.598 1124.55 Q139.82 1125.11 142.297 1125.11 Q146.302 1125.11 148.64 1123 Q150.978 1120.9 150.978 1117.29 Q150.978 1113.67 148.64 1111.57 Q146.302 1109.46 142.297 1109.46 Q140.422 1109.46 138.547 1109.88 Q136.695 1110.29 134.751 1111.17 L134.751 1093.81 Z\" fill=\"#000000\" fill-rule=\"evenodd\" fill-opacity=\"1\" /><path clip-path=\"url(#clip910)\" d=\"M 0 0 M106.742 837.663 Q103.131 837.663 101.302 841.228 Q99.4966 844.769 99.4966 851.899 Q99.4966 859.005 101.302 862.57 Q103.131 866.112 106.742 866.112 Q110.376 866.112 112.182 862.57 Q114.01 859.005 114.01 851.899 Q114.01 844.769 112.182 841.228 Q110.376 837.663 106.742 837.663 M106.742 833.959 Q112.552 833.959 115.608 838.566 Q118.686 843.149 118.686 851.899 Q118.686 860.626 115.608 865.232 Q112.552 869.815 106.742 869.815 Q100.932 869.815 97.8531 865.232 Q94.7975 860.626 94.7975 851.899 Q94.7975 843.149 97.8531 838.566 Q100.932 833.959 106.742 833.959 Z\" fill=\"#000000\" fill-rule=\"evenodd\" fill-opacity=\"1\" /><path clip-path=\"url(#clip910)\" d=\"M 0 0 M123.756 863.264 L128.64 863.264 L128.64 869.144 L123.756 869.144 L123.756 863.264 Z\" fill=\"#000000\" fill-rule=\"evenodd\" fill-opacity=\"1\" /><path clip-path=\"url(#clip910)\" d=\"M 0 0 M143.709 837.663 Q140.098 837.663 138.27 841.228 Q136.464 844.769 136.464 851.899 Q136.464 859.005 138.27 862.57 Q140.098 866.112 143.709 866.112 Q147.344 866.112 149.149 862.57 Q150.978 859.005 150.978 851.899 Q150.978 844.769 149.149 841.228 Q147.344 837.663 143.709 837.663 M143.709 833.959 Q149.519 833.959 152.575 838.566 Q155.654 843.149 155.654 851.899 Q155.654 860.626 152.575 865.232 Q149.519 869.815 143.709 869.815 Q137.899 869.815 134.82 865.232 Q131.765 860.626 131.765 851.899 Q131.765 843.149 134.82 838.566 Q137.899 833.959 143.709 833.959 Z\" fill=\"#000000\" fill-rule=\"evenodd\" fill-opacity=\"1\" /><path clip-path=\"url(#clip910)\" d=\"M 0 0 M107.737 578.434 Q104.126 578.434 102.297 581.998 Q100.492 585.54 100.492 592.67 Q100.492 599.776 102.297 603.341 Q104.126 606.883 107.737 606.883 Q111.371 606.883 113.177 603.341 Q115.006 599.776 115.006 592.67 Q115.006 585.54 113.177 581.998 Q111.371 578.434 107.737 578.434 M107.737 574.73 Q113.547 574.73 116.603 579.336 Q119.682 583.92 119.682 592.67 Q119.682 601.397 116.603 606.003 Q113.547 610.586 107.737 610.586 Q101.927 610.586 98.8484 606.003 Q95.7929 601.397 95.7929 592.67 Q95.7929 583.92 98.8484 579.336 Q101.927 574.73 107.737 574.73 Z\" fill=\"#000000\" fill-rule=\"evenodd\" fill-opacity=\"1\" /><path clip-path=\"url(#clip910)\" d=\"M 0 0 M124.751 604.035 L129.635 604.035 L129.635 609.915 L124.751 609.915 L124.751 604.035 Z\" fill=\"#000000\" fill-rule=\"evenodd\" fill-opacity=\"1\" /><path clip-path=\"url(#clip910)\" d=\"M 0 0 M134.751 575.355 L153.107 575.355 L153.107 579.29 L139.033 579.29 L139.033 587.762 Q140.052 587.415 141.07 587.253 Q142.089 587.068 143.107 587.068 Q148.894 587.068 152.274 590.239 Q155.654 593.41 155.654 598.827 Q155.654 604.406 152.181 607.508 Q148.709 610.586 142.39 610.586 Q140.214 610.586 137.945 610.216 Q135.7 609.846 133.293 609.105 L133.293 604.406 Q135.376 605.54 137.598 606.096 Q139.82 606.651 142.297 606.651 Q146.302 606.651 148.64 604.545 Q150.978 602.438 150.978 598.827 Q150.978 595.216 148.64 593.11 Q146.302 591.003 142.297 591.003 Q140.422 591.003 138.547 591.42 Q136.695 591.836 134.751 592.716 L134.751 575.355 Z\" fill=\"#000000\" fill-rule=\"evenodd\" fill-opacity=\"1\" /><path clip-path=\"url(#clip910)\" d=\"M 0 0 M98.779 346.751 L106.418 346.751 L106.418 320.385 L98.1077 322.052 L98.1077 317.793 L106.372 316.126 L111.047 316.126 L111.047 346.751 L118.686 346.751 L118.686 350.686 L98.779 350.686 L98.779 346.751 Z\" fill=\"#000000\" fill-rule=\"evenodd\" fill-opacity=\"1\" /><path clip-path=\"url(#clip910)\" d=\"M 0 0 M123.756 344.806 L128.64 344.806 L128.64 350.686 L123.756 350.686 L123.756 344.806 Z\" fill=\"#000000\" fill-rule=\"evenodd\" fill-opacity=\"1\" /><path clip-path=\"url(#clip910)\" d=\"M 0 0 M143.709 319.205 Q140.098 319.205 138.27 322.769 Q136.464 326.311 136.464 333.441 Q136.464 340.547 138.27 344.112 Q140.098 347.654 143.709 347.654 Q147.344 347.654 149.149 344.112 Q150.978 340.547 150.978 333.441 Q150.978 326.311 149.149 322.769 Q147.344 319.205 143.709 319.205 M143.709 315.501 Q149.519 315.501 152.575 320.107 Q155.654 324.691 155.654 333.441 Q155.654 342.167 152.575 346.774 Q149.519 351.357 143.709 351.357 Q137.899 351.357 134.82 346.774 Q131.765 342.167 131.765 333.441 Q131.765 324.691 134.82 320.107 Q137.899 315.501 143.709 315.501 Z\" fill=\"#000000\" fill-rule=\"evenodd\" fill-opacity=\"1\" /><polyline clip-path=\"url(#clip912)\" style=\"stroke:#000000; stroke-width:4; stroke-opacity:1; fill:none\" points=\"\n",
       "  616.35,726.743 1916.06,806.949 \n",
       "  \"/>\n",
       "<polyline clip-path=\"url(#clip912)\" style=\"stroke:#000000; stroke-width:4; stroke-opacity:1; fill:none\" points=\"\n",
       "  891.011,887.155 1641.4,646.537 \n",
       "  \"/>\n",
       "<polyline clip-path=\"url(#clip912)\" style=\"stroke:#000000; stroke-width:4; stroke-opacity:1; fill:none\" points=\"\n",
       "  1266.2,1285.3 1266.2,248.388 \n",
       "  \"/>\n",
       "<polyline clip-path=\"url(#clip912)\" style=\"stroke:#0000ff; stroke-width:4; stroke-opacity:1; fill:none\" points=\"\n",
       "  1266.2,766.846 1589.81,179.518 \n",
       "  \"/>\n",
       "<polyline clip-path=\"url(#clip912)\" style=\"stroke:#ff0000; stroke-width:4; stroke-opacity:1; fill:none\" points=\"\n",
       "  1266.2,766.846 1819.62,336.718 \n",
       "  \"/>\n",
       "<polyline clip-path=\"url(#clip912)\" style=\"stroke:#ff0000; stroke-width:4; stroke-opacity:1; fill:none\" stroke-dasharray=\"2, 4\" points=\"\n",
       "  1789.62,799.146 1819.62,336.718 \n",
       "  \"/>\n",
       "<polyline clip-path=\"url(#clip912)\" style=\"stroke:#ff0000; stroke-width:4; stroke-opacity:1; fill:none\" stroke-dasharray=\"2, 4\" points=\"\n",
       "  1296.2,757.226 1819.62,336.718 \n",
       "  \"/>\n",
       "<polyline clip-path=\"url(#clip912)\" style=\"stroke:#ff0000; stroke-width:4; stroke-opacity:1; fill:none\" stroke-dasharray=\"2, 4\" points=\"\n",
       "  1266.2,314.037 1819.62,336.718 \n",
       "  \"/>\n",
       "<polyline clip-path=\"url(#clip912)\" style=\"stroke:#0000ff; stroke-width:4; stroke-opacity:1; fill:none\" stroke-dasharray=\"2, 4\" points=\"\n",
       "  1347.62,771.87 1589.81,179.518 \n",
       "  \"/>\n",
       "<polyline clip-path=\"url(#clip912)\" style=\"stroke:#0000ff; stroke-width:4; stroke-opacity:1; fill:none\" stroke-dasharray=\"2, 4\" points=\"\n",
       "  1508.4,689.185 1589.81,179.518 \n",
       "  \"/>\n",
       "<polyline clip-path=\"url(#clip912)\" style=\"stroke:#0000ff; stroke-width:4; stroke-opacity:1; fill:none\" stroke-dasharray=\"2, 4\" points=\"\n",
       "  1266.2,252.154 1589.81,179.518 \n",
       "  \"/>\n",
       "</svg>\n"
      ]
     },
     "execution_count": 175,
     "metadata": {},
     "output_type": "execute_result"
    }
   ],
   "source": [
    "using Plots\n",
    "\n",
    "\n",
    "plot3d([0], [0], [0], color=\"black\")\n",
    "plot3d!([-1,1], [0,0], [0,0], color=\"black\")\n",
    "plot3d!([0,0], [-1,1], [0,0], color=\"black\")\n",
    "plot3d!([0,0], [0,0], [-1,1], color=\"black\")\n",
    "\n",
    "plot3d!([0,v[1]], [0,v[2]], [0,v[3]], color=\"blue\")\n",
    "plot3d!([0,v2[1]], [0,v2[2]], [0,v2[3]], color=\"red\")\n",
    "\n",
    "points1 = hcat(zeros(3),v)\n",
    "points2 = hcat(zeros(3),v2)\n",
    "\n",
    "plot3d!([v2[1],v2[1]], [0,v2[2]], [0,v2[3]], color=\"red\", linestyle=:dot)\n",
    "plot3d!([0,v2[1]], [v2[2],v2[2]], [0,v2[3]], color=\"red\", linestyle=:dot)\n",
    "plot3d!([0,v2[1]], [0,v2[2]], [v2[3],v2[3]], color=\"red\", linestyle=:dot)\n",
    "\n",
    "\n",
    "plot3d!([v[1],v[1]], [0,v[2]], [0,v[3]], color=\"blue\", linestyle=:dot)\n",
    "plot3d!([0,v[1]], [v[2],v[2]], [0,v[3]], color=\"blue\", linestyle=:dot)\n",
    "plot3d!([0,v[1]], [0,v[2]], [v[3],v[3]], color=\"blue\", linestyle=:dot, legend=false)\n",
    "\n",
    "# plot3d!([0,v2[1]], [0,v2[2]], [0,0], color=\"red\", linestyle=:dot)\n",
    "# plot3d!([0,v2[1]], [0,0], [0,v2[3]], color=\"red\", linestyle=:dot)\n",
    "# plot3d!([0,0], [0,v2[2]], [0,v2[3]], color=\"red\", linestyle=:dot)\n",
    "# plot3d!([0,v2[1]], [v2[2],v2[2]], [0,v2[3]], color=\"red\", linestyle=:dot)\n",
    "# plot3d!([0,v2[1]], [0,v2[2]], [v2[3],v2[3]], color=\"red\", linestyle=:dot)\n"
   ]
  }
 ],
 "metadata": {
  "kernelspec": {
   "display_name": "Julia 1.5.2",
   "language": "julia",
   "name": "julia-1.5"
  },
  "language_info": {
   "file_extension": ".jl",
   "mimetype": "application/julia",
   "name": "julia",
   "version": "1.5.2"
  }
 },
 "nbformat": 4,
 "nbformat_minor": 5
}
