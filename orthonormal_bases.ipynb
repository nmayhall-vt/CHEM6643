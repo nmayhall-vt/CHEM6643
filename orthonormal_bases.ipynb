{
 "cells": [
  {
   "cell_type": "markdown",
   "id": "688ed20d-3f61-4e60-8f53-919384659a9a",
   "metadata": {
    "tags": []
   },
   "source": [
    "# 3D Basis\n",
    "Define some basis vectors for a 3D space - and show that they are complete (i.e., resolve the identity)"
   ]
  },
  {
   "cell_type": "markdown",
   "id": "a7fa8a10-0628-4637-9331-26c69549f5c5",
   "metadata": {
    "tags": []
   },
   "source": [
    "## Define Basis"
   ]
  },
  {
   "cell_type": "code",
   "execution_count": 1,
   "id": "2f87aa8f-f629-4f6e-9e0f-b23f24254971",
   "metadata": {},
   "outputs": [
    {
     "data": {
      "text/plain": [
       "3-element Array{Float64,1}:\n",
       " 0.0\n",
       " 0.0\n",
       " 1.0"
      ]
     },
     "execution_count": 1,
     "metadata": {},
     "output_type": "execute_result"
    }
   ],
   "source": [
    "x = [1.0, 0.0, 0.0]\n",
    "y = [0.0, 1.0, 0.0]\n",
    "z = [0.0, 0.0, 1.0]"
   ]
  },
  {
   "cell_type": "code",
   "execution_count": 2,
   "id": "62e4f79a-38dc-473c-8b0d-854d21f9f83d",
   "metadata": {},
   "outputs": [
    {
     "data": {
      "text/plain": [
       "3×3 Array{Float64,2}:\n",
       " 1.0  0.0  0.0\n",
       " 0.0  1.0  0.0\n",
       " 0.0  0.0  1.0"
      ]
     },
     "execution_count": 2,
     "metadata": {},
     "output_type": "execute_result"
    }
   ],
   "source": [
    "x*x' + y*y' + z*z'"
   ]
  },
  {
   "cell_type": "markdown",
   "id": "5ba80dab-868f-4775-bc77-ed0796580641",
   "metadata": {
    "tags": []
   },
   "source": [
    "## Create random vector in this basis"
   ]
  },
  {
   "cell_type": "code",
   "execution_count": 3,
   "id": "5f8da093-962c-4c2e-b938-f9d3a4aff47f",
   "metadata": {},
   "outputs": [
    {
     "data": {
      "text/plain": [
       "3-element Array{Float64,1}:\n",
       " 0.061761822965954005\n",
       " 0.46272622760254256\n",
       " 0.6347331438905186"
      ]
     },
     "execution_count": 3,
     "metadata": {},
     "output_type": "execute_result"
    }
   ],
   "source": [
    "# all numbers will be positive - meaning it will be in positive quadrant\n",
    "v = rand(3)"
   ]
  },
  {
   "cell_type": "markdown",
   "id": "39047ef2-0fd6-4007-b7fe-4e22796e559a",
   "metadata": {},
   "source": [
    "Show that the projectors do what we expect:"
   ]
  },
  {
   "cell_type": "code",
   "execution_count": 4,
   "id": "7cd95376-7a0c-478e-af5d-6eb8842b0cbf",
   "metadata": {},
   "outputs": [
    {
     "data": {
      "text/plain": [
       "3-element Array{Float64,1}:\n",
       " 0.061761822965954005\n",
       " 0.0\n",
       " 0.0"
      ]
     },
     "execution_count": 4,
     "metadata": {},
     "output_type": "execute_result"
    }
   ],
   "source": [
    "x * x' * v"
   ]
  },
  {
   "cell_type": "code",
   "execution_count": 5,
   "id": "7c446072-6135-49ad-8ba1-857fd4dbacad",
   "metadata": {},
   "outputs": [
    {
     "data": {
      "text/plain": [
       "3-element Array{Float64,1}:\n",
       " 0.0\n",
       " 0.46272622760254256\n",
       " 0.0"
      ]
     },
     "execution_count": 5,
     "metadata": {},
     "output_type": "execute_result"
    }
   ],
   "source": [
    "y * y' * v"
   ]
  },
  {
   "cell_type": "code",
   "execution_count": 6,
   "id": "680a4812-e5d5-405f-af4d-c3fcf1f397e0",
   "metadata": {},
   "outputs": [
    {
     "data": {
      "text/plain": [
       "3-element Array{Float64,1}:\n",
       " 0.0\n",
       " 0.0\n",
       " 0.6347331438905186"
      ]
     },
     "execution_count": 6,
     "metadata": {},
     "output_type": "execute_result"
    }
   ],
   "source": [
    "z * z' * v"
   ]
  },
  {
   "cell_type": "markdown",
   "id": "826727b7-10c2-4eaf-9424-a276631271f5",
   "metadata": {
    "tags": []
   },
   "source": [
    "## Define a new random orthonormal basis"
   ]
  },
  {
   "cell_type": "markdown",
   "id": "ff1bf39b-7817-40b5-9f80-cc120199d98f",
   "metadata": {},
   "source": [
    "start with 3 random vectors"
   ]
  },
  {
   "cell_type": "code",
   "execution_count": 7,
   "id": "7ff0468e-cd1b-44cf-8825-655536059da7",
   "metadata": {},
   "outputs": [],
   "source": [
    "u1 = rand(3) .- .5\n",
    "u2 = rand(3) .- .5\n",
    "u3 = rand(3) .- .5;"
   ]
  },
  {
   "cell_type": "markdown",
   "id": "5671ae1a-cf87-4e26-b749-b91ec6c019e0",
   "metadata": {},
   "source": [
    "these are not orthonormal!"
   ]
  },
  {
   "cell_type": "code",
   "execution_count": 8,
   "id": "40afb89f-584b-46c0-ad7f-e5b194110fd1",
   "metadata": {},
   "outputs": [
    {
     "data": {
      "text/plain": [
       "0.3975267222975799"
      ]
     },
     "execution_count": 8,
     "metadata": {},
     "output_type": "execute_result"
    }
   ],
   "source": [
    "u1'*u1"
   ]
  },
  {
   "cell_type": "code",
   "execution_count": 9,
   "id": "8cafda59-48f8-4989-b43e-fdd775ba150d",
   "metadata": {},
   "outputs": [
    {
     "data": {
      "text/plain": [
       "-0.3262225383963841"
      ]
     },
     "execution_count": 9,
     "metadata": {},
     "output_type": "execute_result"
    }
   ],
   "source": [
    "u1'*u2"
   ]
  },
  {
   "cell_type": "markdown",
   "id": "c7fdca6a-e41f-4510-91b2-a91c7067d300",
   "metadata": {},
   "source": [
    "First let's orthogonalize them using a method called Gram-Schmidt [read more](https://en.wikipedia.org/wiki/Gram%E2%80%93Schmidt_process)."
   ]
  },
  {
   "cell_type": "code",
   "execution_count": 10,
   "id": "599a7d7d-187f-4acd-8200-0a312c271229",
   "metadata": {},
   "outputs": [],
   "source": [
    "# project out u1 from u2\n",
    "u2 = u2 - u1*u1'*u2 / (u1'*u1)\n",
    "\n",
    "# project out u2 and u1 from u3\n",
    "u3 = u3 - u1*u1'*u3 / (u1'*u1)\n",
    "u3 = u3 - u2*u2'*u3 / (u2'*u2);"
   ]
  },
  {
   "cell_type": "code",
   "execution_count": 11,
   "id": "10bd5234-8c69-45c5-b970-e86a6b491211",
   "metadata": {},
   "outputs": [
    {
     "name": "stdout",
     "output_type": "stream",
     "text": [
      "-6.938893903907228e-18\n",
      "6.938893903907228e-18\n",
      "1.734723475976807e-18\n"
     ]
    }
   ],
   "source": [
    "# see that they are orthogonal now:\n",
    "println(u1'*u2)\n",
    "println(u1'*u3)\n",
    "println(u2'*u3)"
   ]
  },
  {
   "cell_type": "markdown",
   "id": "75289046-5dad-41d6-b0da-fff53c3c245d",
   "metadata": {},
   "source": [
    "Now normalize each vector"
   ]
  },
  {
   "cell_type": "code",
   "execution_count": 12,
   "id": "673ed819-91ba-4270-89e0-a5317ba4cc8c",
   "metadata": {},
   "outputs": [],
   "source": [
    "u1 = u1 / sqrt(u1'*u1)\n",
    "u2 = u2 / sqrt(u2'*u2)\n",
    "u3 = u3 / sqrt(u3'*u3);"
   ]
  },
  {
   "cell_type": "code",
   "execution_count": 13,
   "id": "f6fa8e21-47d3-4503-8bf6-ecb17aa28d6d",
   "metadata": {},
   "outputs": [
    {
     "name": "stdout",
     "output_type": "stream",
     "text": [
      "1.0\n",
      "1.0\n",
      "1.0\n"
     ]
    }
   ],
   "source": [
    "println(u1'*u1)\n",
    "println(u2'*u2)\n",
    "println(u3'*u3)"
   ]
  },
  {
   "cell_type": "markdown",
   "id": "948028bc-ed72-4c95-81ff-5b125514319d",
   "metadata": {},
   "source": [
    "Our basis looks completely different from the original x, y, z basis"
   ]
  },
  {
   "cell_type": "code",
   "execution_count": 14,
   "id": "5cb75c75-eb51-4829-8b13-2bd6c684121d",
   "metadata": {},
   "outputs": [
    {
     "data": {
      "text/plain": [
       "3×3 Array{Float64,2}:\n",
       " 1.0  0.0  0.0\n",
       " 0.0  1.0  0.0\n",
       " 0.0  0.0  1.0"
      ]
     },
     "metadata": {},
     "output_type": "display_data"
    },
    {
     "data": {
      "text/plain": [
       "3×3 Array{Float64,2}:\n",
       "  0.119627  -0.965214    0.23249\n",
       " -0.705421  -0.247415   -0.664204\n",
       "  0.698621  -0.0845465  -0.710479"
      ]
     },
     "metadata": {},
     "output_type": "display_data"
    }
   ],
   "source": [
    "# Create matrix where the columns are the basis vectors\n",
    "basis1 = hcat(x, y, z) \n",
    "basis2 = hcat(u1, u2, u3);\n",
    "\n",
    "display(basis1)\n",
    "display(basis2)"
   ]
  },
  {
   "cell_type": "markdown",
   "id": "96e45864-6853-4b45-a126-68b4443d5113",
   "metadata": {},
   "source": [
    "however, both are orthonormal"
   ]
  },
  {
   "cell_type": "code",
   "execution_count": 15,
   "id": "4b373721-b13b-4e96-99b9-04ade4e72528",
   "metadata": {},
   "outputs": [
    {
     "data": {
      "text/plain": [
       "3×3 Array{Float64,2}:\n",
       " 1.0  0.0  0.0\n",
       " 0.0  1.0  0.0\n",
       " 0.0  0.0  1.0"
      ]
     },
     "metadata": {},
     "output_type": "display_data"
    },
    {
     "data": {
      "text/plain": [
       "3×3 Array{Float64,2}:\n",
       "  1.0          -4.16334e-17   5.55112e-17\n",
       " -4.16334e-17   1.0          -1.38778e-17\n",
       "  5.55112e-17  -1.38778e-17   1.0"
      ]
     },
     "metadata": {},
     "output_type": "display_data"
    }
   ],
   "source": [
    "display(basis1'*basis1)\n",
    "display(basis2'*basis2)"
   ]
  },
  {
   "cell_type": "markdown",
   "id": "af709090-71cd-4366-9c50-67435df1dba4",
   "metadata": {
    "tags": []
   },
   "source": [
    "## Now rotate our vector to this new random orthonormal basis"
   ]
  },
  {
   "cell_type": "markdown",
   "id": "bda43e81-de1d-42f7-a9f1-c3b860764f3c",
   "metadata": {},
   "source": [
    "$$\\newcommand{\\braket}[2]{\\left\\langle{#1}\\middle|{#2}\\right\\rangle}$$\n",
    "\n",
    "Remember that in order to perform a change of basis, we need to find the overlap matrix \n",
    "$$\n",
    "b_{i} = \\sum_j S_{ij} c_{j}\n",
    "$$\n",
    "where \n",
    "$$ \\require{physics} S_{ij} = \\braket{w_i}{u_j} $$"
   ]
  },
  {
   "cell_type": "code",
   "execution_count": 16,
   "id": "058ba111-d692-41a5-879d-ea6f2cf3c9c2",
   "metadata": {},
   "outputs": [
    {
     "data": {
      "text/plain": [
       "3×3 Array{Float64,2}:\n",
       "  0.119627  -0.705421   0.698621\n",
       " -0.965214  -0.247415  -0.0845465\n",
       "  0.23249   -0.664204  -0.710479"
      ]
     },
     "metadata": {},
     "output_type": "display_data"
    },
    {
     "data": {
      "text/plain": [
       "3×3 Array{Float64,2}:\n",
       "  1.0          -5.55112e-17  2.77556e-17\n",
       " -5.55112e-17   1.0          0.0\n",
       "  2.77556e-17   0.0          1.0"
      ]
     },
     "metadata": {},
     "output_type": "display_data"
    },
    {
     "data": {
      "text/plain": [
       "3×3 Array{Float64,2}:\n",
       "  1.0          -4.16334e-17   5.55112e-17\n",
       " -4.16334e-17   1.0          -1.38778e-17\n",
       "  5.55112e-17  -1.38778e-17   1.0"
      ]
     },
     "metadata": {},
     "output_type": "display_data"
    }
   ],
   "source": [
    "# Define overlap matrix\n",
    "S = basis2'*basis1\n",
    "\n",
    "display(S)\n",
    "\n",
    "# this matrix is orthogonal\n",
    "display(S'*S)\n",
    "display(S*S')"
   ]
  },
  {
   "cell_type": "code",
   "execution_count": 17,
   "id": "61394797-f5a5-4bad-b1b3-5d76dd33f695",
   "metadata": {},
   "outputs": [
    {
     "data": {
      "text/plain": [
       "3-element Array{Float64,1}:\n",
       "  0.12440969902666249\n",
       " -0.2277633955850989\n",
       " -0.7439504760803239"
      ]
     },
     "execution_count": 17,
     "metadata": {},
     "output_type": "execute_result"
    }
   ],
   "source": [
    "# now convert our vector from basis1 to basis2\n",
    "v2 = S*v"
   ]
  },
  {
   "cell_type": "markdown",
   "id": "74cc0332-9889-4b81-8898-0c5ac0d49300",
   "metadata": {},
   "source": [
    "Here, we can show that the two vectors look different _if_ plotted in the same coordinate system"
   ]
  },
  {
   "cell_type": "code",
   "execution_count": 18,
   "id": "20c451ca-962e-4a02-8218-a66545be0cda",
   "metadata": {},
   "outputs": [
    {
     "name": "stderr",
     "output_type": "stream",
     "text": [
      "┌ Info: Precompiling Plots [91a5bcdd-55d7-5caf-9e0b-520d859cae80]\n",
      "└ @ Base loading.jl:1278\n",
      "┌ Info: Precompiling GR_jll [d2c73de3-f751-5644-a686-071e5b155ba9]\n",
      "└ @ Base loading.jl:1278\n"
     ]
    },
    {
     "data": {
      "image/svg+xml": [
       "<?xml version=\"1.0\" encoding=\"utf-8\"?>\n",
       "<svg xmlns=\"http://www.w3.org/2000/svg\" xmlns:xlink=\"http://www.w3.org/1999/xlink\" width=\"600\" height=\"400\" viewBox=\"0 0 2400 1600\">\n",
       "<defs>\n",
       "  <clipPath id=\"clip270\">\n",
       "    <rect x=\"0\" y=\"0\" width=\"2400\" height=\"1600\"/>\n",
       "  </clipPath>\n",
       "</defs>\n",
       "<path clip-path=\"url(#clip270)\" d=\"\n",
       "M0 1600 L2400 1600 L2400 0 L0 0  Z\n",
       "  \" fill=\"#ffffff\" fill-rule=\"evenodd\" fill-opacity=\"1\"/>\n",
       "<defs>\n",
       "  <clipPath id=\"clip271\">\n",
       "    <rect x=\"480\" y=\"0\" width=\"1681\" height=\"1600\"/>\n",
       "  </clipPath>\n",
       "</defs>\n",
       "<defs>\n",
       "  <clipPath id=\"clip272\">\n",
       "    <rect x=\"193\" y=\"47\" width=\"2160\" height=\"1440\"/>\n",
       "  </clipPath>\n",
       "</defs>\n",
       "<path clip-path=\"url(#clip272)\" d=\"\n",
       "M193.936 1401.43 L193.936 302.298 L984.119 47.2441 L2352.76 132.262 L2352.76 1231.39 L1562.57 1486.45 L193.936 1401.43  Z\n",
       "  \" fill=\"#ffffff\" fill-rule=\"evenodd\" fill-opacity=\"1\"/>\n",
       "<polyline clip-path=\"url(#clip272)\" style=\"stroke:#000000; stroke-linecap:butt; stroke-linejoin:round; stroke-width:2; stroke-opacity:0.1; fill:none\" points=\"\n",
       "  232.671,1403.84 1022.85,1148.78 \n",
       "  \"/>\n",
       "<polyline clip-path=\"url(#clip272)\" style=\"stroke:#000000; stroke-linecap:butt; stroke-linejoin:round; stroke-width:2; stroke-opacity:0.1; fill:none\" points=\"\n",
       "  1022.85,1148.78 1022.85,49.6503 \n",
       "  \"/>\n",
       "<polyline clip-path=\"url(#clip272)\" style=\"stroke:#000000; stroke-linecap:butt; stroke-linejoin:round; stroke-width:2; stroke-opacity:0.1; fill:none\" points=\"\n",
       "  555.463,1423.89 1345.65,1168.83 \n",
       "  \"/>\n",
       "<polyline clip-path=\"url(#clip272)\" style=\"stroke:#000000; stroke-linecap:butt; stroke-linejoin:round; stroke-width:2; stroke-opacity:0.1; fill:none\" points=\"\n",
       "  1345.65,1168.83 1345.65,69.7017 \n",
       "  \"/>\n",
       "<polyline clip-path=\"url(#clip272)\" style=\"stroke:#000000; stroke-linecap:butt; stroke-linejoin:round; stroke-width:2; stroke-opacity:0.1; fill:none\" points=\"\n",
       "  878.254,1443.94 1668.44,1188.88 \n",
       "  \"/>\n",
       "<polyline clip-path=\"url(#clip272)\" style=\"stroke:#000000; stroke-linecap:butt; stroke-linejoin:round; stroke-width:2; stroke-opacity:0.1; fill:none\" points=\"\n",
       "  1668.44,1188.88 1668.44,89.7531 \n",
       "  \"/>\n",
       "<polyline clip-path=\"url(#clip272)\" style=\"stroke:#000000; stroke-linecap:butt; stroke-linejoin:round; stroke-width:2; stroke-opacity:0.1; fill:none\" points=\"\n",
       "  1201.05,1463.99 1991.23,1208.94 \n",
       "  \"/>\n",
       "<polyline clip-path=\"url(#clip272)\" style=\"stroke:#000000; stroke-linecap:butt; stroke-linejoin:round; stroke-width:2; stroke-opacity:0.1; fill:none\" points=\"\n",
       "  1991.23,1208.94 1991.23,109.805 \n",
       "  \"/>\n",
       "<polyline clip-path=\"url(#clip272)\" style=\"stroke:#000000; stroke-linecap:butt; stroke-linejoin:round; stroke-width:2; stroke-opacity:0.1; fill:none\" points=\"\n",
       "  1523.84,1484.04 2314.02,1228.99 \n",
       "  \"/>\n",
       "<polyline clip-path=\"url(#clip272)\" style=\"stroke:#000000; stroke-linecap:butt; stroke-linejoin:round; stroke-width:2; stroke-opacity:0.1; fill:none\" points=\"\n",
       "  2314.02,1228.99 2314.02,129.856 \n",
       "  \"/>\n",
       "<polyline clip-path=\"url(#clip270)\" style=\"stroke:#000000; stroke-linecap:butt; stroke-linejoin:round; stroke-width:4; stroke-opacity:1; fill:none\" points=\"\n",
       "  193.936,1401.43 1562.57,1486.45 \n",
       "  \"/>\n",
       "<polyline clip-path=\"url(#clip270)\" style=\"stroke:#000000; stroke-linecap:butt; stroke-linejoin:round; stroke-width:4; stroke-opacity:1; fill:none\" points=\"\n",
       "  232.671,1403.84 242.153,1400.78 \n",
       "  \"/>\n",
       "<polyline clip-path=\"url(#clip270)\" style=\"stroke:#000000; stroke-linecap:butt; stroke-linejoin:round; stroke-width:4; stroke-opacity:1; fill:none\" points=\"\n",
       "  555.463,1423.89 564.945,1420.83 \n",
       "  \"/>\n",
       "<polyline clip-path=\"url(#clip270)\" style=\"stroke:#000000; stroke-linecap:butt; stroke-linejoin:round; stroke-width:4; stroke-opacity:1; fill:none\" points=\"\n",
       "  878.254,1443.94 887.737,1440.88 \n",
       "  \"/>\n",
       "<polyline clip-path=\"url(#clip270)\" style=\"stroke:#000000; stroke-linecap:butt; stroke-linejoin:round; stroke-width:4; stroke-opacity:1; fill:none\" points=\"\n",
       "  1201.05,1463.99 1210.53,1460.93 \n",
       "  \"/>\n",
       "<polyline clip-path=\"url(#clip270)\" style=\"stroke:#000000; stroke-linecap:butt; stroke-linejoin:round; stroke-width:4; stroke-opacity:1; fill:none\" points=\"\n",
       "  1523.84,1484.04 1533.32,1480.98 \n",
       "  \"/>\n",
       "<path clip-path=\"url(#clip270)\" d=\"M155.199 1452.48 L184.875 1452.48 L184.875 1456.41 L155.199 1456.41 L155.199 1452.48 Z\" fill=\"#000000\" fill-rule=\"evenodd\" fill-opacity=\"1\" /><path clip-path=\"url(#clip270)\" d=\"M195.778 1465.37 L203.416 1465.37 L203.416 1439.01 L195.106 1440.67 L195.106 1436.41 L203.37 1434.75 L208.046 1434.75 L208.046 1465.37 L215.685 1465.37 L215.685 1469.31 L195.778 1469.31 L195.778 1465.37 Z\" fill=\"#000000\" fill-rule=\"evenodd\" fill-opacity=\"1\" /><path clip-path=\"url(#clip270)\" d=\"M225.129 1463.43 L230.013 1463.43 L230.013 1469.31 L225.129 1469.31 L225.129 1463.43 Z\" fill=\"#000000\" fill-rule=\"evenodd\" fill-opacity=\"1\" /><path clip-path=\"url(#clip270)\" d=\"M250.199 1437.83 Q246.587 1437.83 244.759 1441.39 Q242.953 1444.93 242.953 1452.06 Q242.953 1459.17 244.759 1462.73 Q246.587 1466.28 250.199 1466.28 Q253.833 1466.28 255.638 1462.73 Q257.467 1459.17 257.467 1452.06 Q257.467 1444.93 255.638 1441.39 Q253.833 1437.83 250.199 1437.83 M250.199 1434.12 Q256.009 1434.12 259.064 1438.73 Q262.143 1443.31 262.143 1452.06 Q262.143 1460.79 259.064 1465.4 Q256.009 1469.98 250.199 1469.98 Q244.388 1469.98 241.31 1465.4 Q238.254 1460.79 238.254 1452.06 Q238.254 1443.31 241.31 1438.73 Q244.388 1434.12 250.199 1434.12 Z\" fill=\"#000000\" fill-rule=\"evenodd\" fill-opacity=\"1\" /><path clip-path=\"url(#clip270)\" d=\"M478.488 1472.53 L508.164 1472.53 L508.164 1476.47 L478.488 1476.47 L478.488 1472.53 Z\" fill=\"#000000\" fill-rule=\"evenodd\" fill-opacity=\"1\" /><path clip-path=\"url(#clip270)\" d=\"M528.257 1457.88 Q524.646 1457.88 522.817 1461.44 Q521.011 1464.98 521.011 1472.11 Q521.011 1479.22 522.817 1482.79 Q524.646 1486.33 528.257 1486.33 Q531.891 1486.33 533.697 1482.79 Q535.525 1479.22 535.525 1472.11 Q535.525 1464.98 533.697 1461.44 Q531.891 1457.88 528.257 1457.88 M528.257 1454.17 Q534.067 1454.17 537.122 1458.78 Q540.201 1463.36 540.201 1472.11 Q540.201 1480.84 537.122 1485.45 Q534.067 1490.03 528.257 1490.03 Q522.447 1490.03 519.368 1485.45 Q516.312 1480.84 516.312 1472.11 Q516.312 1463.36 519.368 1458.78 Q522.447 1454.17 528.257 1454.17 Z\" fill=\"#000000\" fill-rule=\"evenodd\" fill-opacity=\"1\" /><path clip-path=\"url(#clip270)\" d=\"M548.419 1483.48 L553.303 1483.48 L553.303 1489.36 L548.419 1489.36 L548.419 1483.48 Z\" fill=\"#000000\" fill-rule=\"evenodd\" fill-opacity=\"1\" /><path clip-path=\"url(#clip270)\" d=\"M563.534 1454.8 L581.891 1454.8 L581.891 1458.73 L567.817 1458.73 L567.817 1467.21 Q568.835 1466.86 569.854 1466.7 Q570.872 1466.51 571.891 1466.51 Q577.678 1466.51 581.057 1469.68 Q584.437 1472.85 584.437 1478.27 Q584.437 1483.85 580.965 1486.95 Q577.493 1490.03 571.173 1490.03 Q568.997 1490.03 566.729 1489.66 Q564.483 1489.29 562.076 1488.55 L562.076 1483.85 Q564.159 1484.98 566.382 1485.54 Q568.604 1486.1 571.081 1486.1 Q575.085 1486.1 577.423 1483.99 Q579.761 1481.88 579.761 1478.27 Q579.761 1474.66 577.423 1472.55 Q575.085 1470.45 571.081 1470.45 Q569.206 1470.45 567.331 1470.86 Q565.479 1471.28 563.534 1472.16 L563.534 1454.8 Z\" fill=\"#000000\" fill-rule=\"evenodd\" fill-opacity=\"1\" /><path clip-path=\"url(#clip270)\" d=\"M831.639 1477.93 Q828.028 1477.93 826.199 1481.49 Q824.394 1485.04 824.394 1492.17 Q824.394 1499.27 826.199 1502.84 Q828.028 1506.38 831.639 1506.38 Q835.273 1506.38 837.079 1502.84 Q838.907 1499.27 838.907 1492.17 Q838.907 1485.04 837.079 1481.49 Q835.273 1477.93 831.639 1477.93 M831.639 1474.23 Q837.449 1474.23 840.505 1478.83 Q843.583 1483.42 843.583 1492.17 Q843.583 1500.89 840.505 1505.5 Q837.449 1510.08 831.639 1510.08 Q825.829 1510.08 822.75 1505.5 Q819.694 1500.89 819.694 1492.17 Q819.694 1483.42 822.75 1478.83 Q825.829 1474.23 831.639 1474.23 Z\" fill=\"#000000\" fill-rule=\"evenodd\" fill-opacity=\"1\" /><path clip-path=\"url(#clip270)\" d=\"M851.801 1503.53 L856.685 1503.53 L856.685 1509.41 L851.801 1509.41 L851.801 1503.53 Z\" fill=\"#000000\" fill-rule=\"evenodd\" fill-opacity=\"1\" /><path clip-path=\"url(#clip270)\" d=\"M876.87 1477.93 Q873.259 1477.93 871.43 1481.49 Q869.625 1485.04 869.625 1492.17 Q869.625 1499.27 871.43 1502.84 Q873.259 1506.38 876.87 1506.38 Q880.504 1506.38 882.31 1502.84 Q884.139 1499.27 884.139 1492.17 Q884.139 1485.04 882.31 1481.49 Q880.504 1477.93 876.87 1477.93 M876.87 1474.23 Q882.68 1474.23 885.736 1478.83 Q888.814 1483.42 888.814 1492.17 Q888.814 1500.89 885.736 1505.5 Q882.68 1510.08 876.87 1510.08 Q871.06 1510.08 867.981 1505.5 Q864.926 1500.89 864.926 1492.17 Q864.926 1483.42 867.981 1478.83 Q871.06 1474.23 876.87 1474.23 Z\" fill=\"#000000\" fill-rule=\"evenodd\" fill-opacity=\"1\" /><path clip-path=\"url(#clip270)\" d=\"M1154.93 1497.98 Q1151.32 1497.98 1149.49 1501.55 Q1147.68 1505.09 1147.68 1512.22 Q1147.68 1519.32 1149.49 1522.89 Q1151.32 1526.43 1154.93 1526.43 Q1158.56 1526.43 1160.37 1522.89 Q1162.2 1519.32 1162.2 1512.22 Q1162.2 1505.09 1160.37 1501.55 Q1158.56 1497.98 1154.93 1497.98 M1154.93 1494.28 Q1160.74 1494.28 1163.79 1498.88 Q1166.87 1503.47 1166.87 1512.22 Q1166.87 1520.94 1163.79 1525.55 Q1160.74 1530.13 1154.93 1530.13 Q1149.12 1530.13 1146.04 1525.55 Q1142.98 1520.94 1142.98 1512.22 Q1142.98 1503.47 1146.04 1498.88 Q1149.12 1494.28 1154.93 1494.28 Z\" fill=\"#000000\" fill-rule=\"evenodd\" fill-opacity=\"1\" /><path clip-path=\"url(#clip270)\" d=\"M1175.09 1523.58 L1179.97 1523.58 L1179.97 1529.46 L1175.09 1529.46 L1175.09 1523.58 Z\" fill=\"#000000\" fill-rule=\"evenodd\" fill-opacity=\"1\" /><path clip-path=\"url(#clip270)\" d=\"M1190.21 1494.9 L1208.56 1494.9 L1208.56 1498.84 L1194.49 1498.84 L1194.49 1507.31 Q1195.51 1506.96 1196.53 1506.8 Q1197.54 1506.62 1198.56 1506.62 Q1204.35 1506.62 1207.73 1509.79 Q1211.11 1512.96 1211.11 1518.37 Q1211.11 1523.95 1207.64 1527.05 Q1204.16 1530.13 1197.84 1530.13 Q1195.67 1530.13 1193.4 1529.76 Q1191.15 1529.39 1188.75 1528.65 L1188.75 1523.95 Q1190.83 1525.09 1193.05 1525.64 Q1195.28 1526.2 1197.75 1526.2 Q1201.76 1526.2 1204.09 1524.09 Q1206.43 1521.99 1206.43 1518.37 Q1206.43 1514.76 1204.09 1512.66 Q1201.76 1510.55 1197.75 1510.55 Q1195.88 1510.55 1194 1510.97 Q1192.15 1511.38 1190.21 1512.26 L1190.21 1494.9 Z\" fill=\"#000000\" fill-rule=\"evenodd\" fill-opacity=\"1\" /><path clip-path=\"url(#clip270)\" d=\"M1466.99 1545.58 L1474.63 1545.58 L1474.63 1519.21 L1466.32 1520.88 L1466.32 1516.62 L1474.58 1514.95 L1479.26 1514.95 L1479.26 1545.58 L1486.9 1545.58 L1486.9 1549.51 L1466.99 1549.51 L1466.99 1545.58 Z\" fill=\"#000000\" fill-rule=\"evenodd\" fill-opacity=\"1\" /><path clip-path=\"url(#clip270)\" d=\"M1496.34 1543.63 L1501.23 1543.63 L1501.23 1549.51 L1496.34 1549.51 L1496.34 1543.63 Z\" fill=\"#000000\" fill-rule=\"evenodd\" fill-opacity=\"1\" /><path clip-path=\"url(#clip270)\" d=\"M1521.41 1518.03 Q1517.8 1518.03 1515.97 1521.6 Q1514.17 1525.14 1514.17 1532.27 Q1514.17 1539.37 1515.97 1542.94 Q1517.8 1546.48 1521.41 1546.48 Q1525.05 1546.48 1526.85 1542.94 Q1528.68 1539.37 1528.68 1532.27 Q1528.68 1525.14 1526.85 1521.6 Q1525.05 1518.03 1521.41 1518.03 M1521.41 1514.33 Q1527.22 1514.33 1530.28 1518.94 Q1533.36 1523.52 1533.36 1532.27 Q1533.36 1541 1530.28 1545.6 Q1527.22 1550.18 1521.41 1550.18 Q1515.6 1550.18 1512.52 1545.6 Q1509.47 1541 1509.47 1532.27 Q1509.47 1523.52 1512.52 1518.94 Q1515.6 1514.33 1521.41 1514.33 Z\" fill=\"#000000\" fill-rule=\"evenodd\" fill-opacity=\"1\" /><polyline clip-path=\"url(#clip272)\" style=\"stroke:#000000; stroke-linecap:butt; stroke-linejoin:round; stroke-width:2; stroke-opacity:0.1; fill:none\" points=\"\n",
       "  1584.94,1479.23 216.3,1394.21 \n",
       "  \"/>\n",
       "<polyline clip-path=\"url(#clip272)\" style=\"stroke:#000000; stroke-linecap:butt; stroke-linejoin:round; stroke-width:2; stroke-opacity:0.1; fill:none\" points=\"\n",
       "  216.3,1394.21 216.3,295.08 \n",
       "  \"/>\n",
       "<polyline clip-path=\"url(#clip272)\" style=\"stroke:#000000; stroke-linecap:butt; stroke-linejoin:round; stroke-width:2; stroke-opacity:0.1; fill:none\" points=\"\n",
       "  1771.3,1419.08 402.664,1334.06 \n",
       "  \"/>\n",
       "<polyline clip-path=\"url(#clip272)\" style=\"stroke:#000000; stroke-linecap:butt; stroke-linejoin:round; stroke-width:2; stroke-opacity:0.1; fill:none\" points=\"\n",
       "  402.664,1334.06 402.664,234.926 \n",
       "  \"/>\n",
       "<polyline clip-path=\"url(#clip272)\" style=\"stroke:#000000; stroke-linecap:butt; stroke-linejoin:round; stroke-width:2; stroke-opacity:0.1; fill:none\" points=\"\n",
       "  1957.66,1358.92 589.027,1273.9 \n",
       "  \"/>\n",
       "<polyline clip-path=\"url(#clip272)\" style=\"stroke:#000000; stroke-linecap:butt; stroke-linejoin:round; stroke-width:2; stroke-opacity:0.1; fill:none\" points=\"\n",
       "  589.027,1273.9 589.027,174.771 \n",
       "  \"/>\n",
       "<polyline clip-path=\"url(#clip272)\" style=\"stroke:#000000; stroke-linecap:butt; stroke-linejoin:round; stroke-width:2; stroke-opacity:0.1; fill:none\" points=\"\n",
       "  2144.03,1298.77 775.391,1213.75 \n",
       "  \"/>\n",
       "<polyline clip-path=\"url(#clip272)\" style=\"stroke:#000000; stroke-linecap:butt; stroke-linejoin:round; stroke-width:2; stroke-opacity:0.1; fill:none\" points=\"\n",
       "  775.391,1213.75 775.391,114.617 \n",
       "  \"/>\n",
       "<polyline clip-path=\"url(#clip272)\" style=\"stroke:#000000; stroke-linecap:butt; stroke-linejoin:round; stroke-width:2; stroke-opacity:0.1; fill:none\" points=\"\n",
       "  2330.39,1238.61 961.755,1153.59 \n",
       "  \"/>\n",
       "<polyline clip-path=\"url(#clip272)\" style=\"stroke:#000000; stroke-linecap:butt; stroke-linejoin:round; stroke-width:2; stroke-opacity:0.1; fill:none\" points=\"\n",
       "  961.755,1153.59 961.755,54.4626 \n",
       "  \"/>\n",
       "<polyline clip-path=\"url(#clip270)\" style=\"stroke:#000000; stroke-linecap:butt; stroke-linejoin:round; stroke-width:4; stroke-opacity:1; fill:none\" points=\"\n",
       "  1562.57,1486.45 2352.76,1231.39 \n",
       "  \"/>\n",
       "<polyline clip-path=\"url(#clip270)\" style=\"stroke:#000000; stroke-linecap:butt; stroke-linejoin:round; stroke-width:4; stroke-opacity:1; fill:none\" points=\"\n",
       "  1584.94,1479.23 1568.51,1478.21 \n",
       "  \"/>\n",
       "<polyline clip-path=\"url(#clip270)\" style=\"stroke:#000000; stroke-linecap:butt; stroke-linejoin:round; stroke-width:4; stroke-opacity:1; fill:none\" points=\"\n",
       "  1771.3,1419.08 1754.88,1418.05 \n",
       "  \"/>\n",
       "<polyline clip-path=\"url(#clip270)\" style=\"stroke:#000000; stroke-linecap:butt; stroke-linejoin:round; stroke-width:4; stroke-opacity:1; fill:none\" points=\"\n",
       "  1957.66,1358.92 1941.24,1357.9 \n",
       "  \"/>\n",
       "<polyline clip-path=\"url(#clip270)\" style=\"stroke:#000000; stroke-linecap:butt; stroke-linejoin:round; stroke-width:4; stroke-opacity:1; fill:none\" points=\"\n",
       "  2144.03,1298.77 2127.6,1297.75 \n",
       "  \"/>\n",
       "<polyline clip-path=\"url(#clip270)\" style=\"stroke:#000000; stroke-linecap:butt; stroke-linejoin:round; stroke-width:4; stroke-opacity:1; fill:none\" points=\"\n",
       "  2330.39,1238.61 2313.97,1237.59 \n",
       "  \"/>\n",
       "<path clip-path=\"url(#clip270)\" d=\"M1555.46 1527.87 L1585.14 1527.87 L1585.14 1531.81 L1555.46 1531.81 L1555.46 1527.87 Z\" fill=\"#000000\" fill-rule=\"evenodd\" fill-opacity=\"1\" /><path clip-path=\"url(#clip270)\" d=\"M1596.04 1540.77 L1603.68 1540.77 L1603.68 1514.4 L1595.37 1516.07 L1595.37 1511.81 L1603.64 1510.14 L1608.31 1510.14 L1608.31 1540.77 L1615.95 1540.77 L1615.95 1544.7 L1596.04 1544.7 L1596.04 1540.77 Z\" fill=\"#000000\" fill-rule=\"evenodd\" fill-opacity=\"1\" /><path clip-path=\"url(#clip270)\" d=\"M1625.39 1538.82 L1630.28 1538.82 L1630.28 1544.7 L1625.39 1544.7 L1625.39 1538.82 Z\" fill=\"#000000\" fill-rule=\"evenodd\" fill-opacity=\"1\" /><path clip-path=\"url(#clip270)\" d=\"M1650.46 1513.22 Q1646.85 1513.22 1645.02 1516.78 Q1643.22 1520.33 1643.22 1527.46 Q1643.22 1534.56 1645.02 1538.13 Q1646.85 1541.67 1650.46 1541.67 Q1654.1 1541.67 1655.9 1538.13 Q1657.73 1534.56 1657.73 1527.46 Q1657.73 1520.33 1655.9 1516.78 Q1654.1 1513.22 1650.46 1513.22 M1650.46 1509.52 Q1656.27 1509.52 1659.33 1514.12 Q1662.41 1518.71 1662.41 1527.46 Q1662.41 1536.18 1659.33 1540.79 Q1656.27 1545.37 1650.46 1545.37 Q1644.65 1545.37 1641.58 1540.79 Q1638.52 1536.18 1638.52 1527.46 Q1638.52 1518.71 1641.58 1514.12 Q1644.65 1509.52 1650.46 1509.52 Z\" fill=\"#000000\" fill-rule=\"evenodd\" fill-opacity=\"1\" /><path clip-path=\"url(#clip270)\" d=\"M1742.33 1467.72 L1772 1467.72 L1772 1471.65 L1742.33 1471.65 L1742.33 1467.72 Z\" fill=\"#000000\" fill-rule=\"evenodd\" fill-opacity=\"1\" /><path clip-path=\"url(#clip270)\" d=\"M1792.09 1453.07 Q1788.48 1453.07 1786.65 1456.63 Q1784.85 1460.17 1784.85 1467.3 Q1784.85 1474.41 1786.65 1477.97 Q1788.48 1481.51 1792.09 1481.51 Q1795.73 1481.51 1797.53 1477.97 Q1799.36 1474.41 1799.36 1467.3 Q1799.36 1460.17 1797.53 1456.63 Q1795.73 1453.07 1792.09 1453.07 M1792.09 1449.36 Q1797.9 1449.36 1800.96 1453.97 Q1804.04 1458.55 1804.04 1467.3 Q1804.04 1476.03 1800.96 1480.64 Q1797.9 1485.22 1792.09 1485.22 Q1786.28 1485.22 1783.21 1480.64 Q1780.15 1476.03 1780.15 1467.3 Q1780.15 1458.55 1783.21 1453.97 Q1786.28 1449.36 1792.09 1449.36 Z\" fill=\"#000000\" fill-rule=\"evenodd\" fill-opacity=\"1\" /><path clip-path=\"url(#clip270)\" d=\"M1812.26 1478.67 L1817.14 1478.67 L1817.14 1484.55 L1812.26 1484.55 L1812.26 1478.67 Z\" fill=\"#000000\" fill-rule=\"evenodd\" fill-opacity=\"1\" /><path clip-path=\"url(#clip270)\" d=\"M1827.37 1449.99 L1845.73 1449.99 L1845.73 1453.92 L1831.65 1453.92 L1831.65 1462.39 Q1832.67 1462.05 1833.69 1461.89 Q1834.71 1461.7 1835.73 1461.7 Q1841.52 1461.7 1844.9 1464.87 Q1848.27 1468.04 1848.27 1473.46 Q1848.27 1479.04 1844.8 1482.14 Q1841.33 1485.22 1835.01 1485.22 Q1832.84 1485.22 1830.57 1484.85 Q1828.32 1484.48 1825.91 1483.74 L1825.91 1479.04 Q1828 1480.17 1830.22 1480.73 Q1832.44 1481.28 1834.92 1481.28 Q1838.92 1481.28 1841.26 1479.18 Q1843.6 1477.07 1843.6 1473.46 Q1843.6 1469.85 1841.26 1467.74 Q1838.92 1465.64 1834.92 1465.64 Q1833.04 1465.64 1831.17 1466.05 Q1829.32 1466.47 1827.37 1467.35 L1827.37 1449.99 Z\" fill=\"#000000\" fill-rule=\"evenodd\" fill-opacity=\"1\" /><path clip-path=\"url(#clip270)\" d=\"M1959.05 1392.91 Q1955.44 1392.91 1953.61 1396.48 Q1951.8 1400.02 1951.8 1407.15 Q1951.8 1414.25 1953.61 1417.82 Q1955.44 1421.36 1959.05 1421.36 Q1962.68 1421.36 1964.49 1417.82 Q1966.32 1414.25 1966.32 1407.15 Q1966.32 1400.02 1964.49 1396.48 Q1962.68 1392.91 1959.05 1392.91 M1959.05 1389.21 Q1964.86 1389.21 1967.91 1393.81 Q1970.99 1398.4 1970.99 1407.15 Q1970.99 1415.87 1967.91 1420.48 Q1964.86 1425.06 1959.05 1425.06 Q1953.24 1425.06 1950.16 1420.48 Q1947.1 1415.87 1947.1 1407.15 Q1947.1 1398.4 1950.16 1393.81 Q1953.24 1389.21 1959.05 1389.21 Z\" fill=\"#000000\" fill-rule=\"evenodd\" fill-opacity=\"1\" /><path clip-path=\"url(#clip270)\" d=\"M1979.21 1418.51 L1984.09 1418.51 L1984.09 1424.39 L1979.21 1424.39 L1979.21 1418.51 Z\" fill=\"#000000\" fill-rule=\"evenodd\" fill-opacity=\"1\" /><path clip-path=\"url(#clip270)\" d=\"M2004.28 1392.91 Q2000.67 1392.91 1998.84 1396.48 Q1997.03 1400.02 1997.03 1407.15 Q1997.03 1414.25 1998.84 1417.82 Q2000.67 1421.36 2004.28 1421.36 Q2007.91 1421.36 2009.72 1417.82 Q2011.55 1414.25 2011.55 1407.15 Q2011.55 1400.02 2009.72 1396.48 Q2007.91 1392.91 2004.28 1392.91 M2004.28 1389.21 Q2010.09 1389.21 2013.15 1393.81 Q2016.22 1398.4 2016.22 1407.15 Q2016.22 1415.87 2013.15 1420.48 Q2010.09 1425.06 2004.28 1425.06 Q1998.47 1425.06 1995.39 1420.48 Q1992.34 1415.87 1992.34 1407.15 Q1992.34 1398.4 1995.39 1393.81 Q1998.47 1389.21 2004.28 1389.21 Z\" fill=\"#000000\" fill-rule=\"evenodd\" fill-opacity=\"1\" /><path clip-path=\"url(#clip270)\" d=\"M2145.91 1332.76 Q2142.3 1332.76 2140.47 1336.32 Q2138.67 1339.86 2138.67 1346.99 Q2138.67 1354.1 2140.47 1357.66 Q2142.3 1361.21 2145.91 1361.21 Q2149.54 1361.21 2151.35 1357.66 Q2153.18 1354.1 2153.18 1346.99 Q2153.18 1339.86 2151.35 1336.32 Q2149.54 1332.76 2145.91 1332.76 M2145.91 1329.05 Q2151.72 1329.05 2154.78 1333.66 Q2157.85 1338.24 2157.85 1346.99 Q2157.85 1355.72 2154.78 1360.33 Q2151.72 1364.91 2145.91 1364.91 Q2140.1 1364.91 2137.02 1360.33 Q2133.97 1355.72 2133.97 1346.99 Q2133.97 1338.24 2137.02 1333.66 Q2140.1 1329.05 2145.91 1329.05 Z\" fill=\"#000000\" fill-rule=\"evenodd\" fill-opacity=\"1\" /><path clip-path=\"url(#clip270)\" d=\"M2166.07 1358.36 L2170.96 1358.36 L2170.96 1364.24 L2166.07 1364.24 L2166.07 1358.36 Z\" fill=\"#000000\" fill-rule=\"evenodd\" fill-opacity=\"1\" /><path clip-path=\"url(#clip270)\" d=\"M2181.19 1329.68 L2199.54 1329.68 L2199.54 1333.61 L2185.47 1333.61 L2185.47 1342.09 Q2186.49 1341.74 2187.51 1341.58 Q2188.53 1341.39 2189.54 1341.39 Q2195.33 1341.39 2198.71 1344.56 Q2202.09 1347.73 2202.09 1353.15 Q2202.09 1358.73 2198.62 1361.83 Q2195.15 1364.91 2188.83 1364.91 Q2186.65 1364.91 2184.38 1364.54 Q2182.14 1364.17 2179.73 1363.43 L2179.73 1358.73 Q2181.81 1359.86 2184.04 1360.42 Q2186.26 1360.97 2188.73 1360.97 Q2192.74 1360.97 2195.08 1358.87 Q2197.41 1356.76 2197.41 1353.15 Q2197.41 1349.54 2195.08 1347.43 Q2192.74 1345.33 2188.73 1345.33 Q2186.86 1345.33 2184.98 1345.74 Q2183.13 1346.16 2181.19 1347.04 L2181.19 1329.68 Z\" fill=\"#000000\" fill-rule=\"evenodd\" fill-opacity=\"1\" /><path clip-path=\"url(#clip270)\" d=\"M2321.55 1300.15 L2329.18 1300.15 L2329.18 1273.78 L2320.87 1275.45 L2320.87 1271.19 L2329.14 1269.52 L2333.81 1269.52 L2333.81 1300.15 L2341.45 1300.15 L2341.45 1304.08 L2321.55 1304.08 L2321.55 1300.15 Z\" fill=\"#000000\" fill-rule=\"evenodd\" fill-opacity=\"1\" /><path clip-path=\"url(#clip270)\" d=\"M2350.9 1298.2 L2355.78 1298.2 L2355.78 1304.08 L2350.9 1304.08 L2350.9 1298.2 Z\" fill=\"#000000\" fill-rule=\"evenodd\" fill-opacity=\"1\" /><path clip-path=\"url(#clip270)\" d=\"M2375.97 1272.6 Q2372.36 1272.6 2370.53 1276.17 Q2368.72 1279.71 2368.72 1286.84 Q2368.72 1293.95 2370.53 1297.51 Q2372.36 1301.05 2375.97 1301.05 Q2379.6 1301.05 2381.41 1297.51 Q2383.23 1293.95 2383.23 1286.84 Q2383.23 1279.71 2381.41 1276.17 Q2379.6 1272.6 2375.97 1272.6 M2375.97 1268.9 Q2381.78 1268.9 2384.83 1273.51 Q2387.91 1278.09 2387.91 1286.84 Q2387.91 1295.57 2384.83 1300.17 Q2381.78 1304.76 2375.97 1304.76 Q2370.16 1304.76 2367.08 1300.17 Q2364.02 1295.57 2364.02 1286.84 Q2364.02 1278.09 2367.08 1273.51 Q2370.16 1268.9 2375.97 1268.9 Z\" fill=\"#000000\" fill-rule=\"evenodd\" fill-opacity=\"1\" /><polyline clip-path=\"url(#clip272)\" style=\"stroke:#000000; stroke-linecap:butt; stroke-linejoin:round; stroke-width:2; stroke-opacity:0.1; fill:none\" points=\"\n",
       "  193.936,1370.32 984.119,1115.27 \n",
       "  \"/>\n",
       "<polyline clip-path=\"url(#clip272)\" style=\"stroke:#000000; stroke-linecap:butt; stroke-linejoin:round; stroke-width:2; stroke-opacity:0.1; fill:none\" points=\"\n",
       "  984.119,1115.27 2352.76,1200.29 \n",
       "  \"/>\n",
       "<polyline clip-path=\"url(#clip272)\" style=\"stroke:#000000; stroke-linecap:butt; stroke-linejoin:round; stroke-width:2; stroke-opacity:0.1; fill:none\" points=\"\n",
       "  193.936,1111.09 984.119,856.039 \n",
       "  \"/>\n",
       "<polyline clip-path=\"url(#clip272)\" style=\"stroke:#000000; stroke-linecap:butt; stroke-linejoin:round; stroke-width:2; stroke-opacity:0.1; fill:none\" points=\"\n",
       "  984.119,856.039 2352.76,941.057 \n",
       "  \"/>\n",
       "<polyline clip-path=\"url(#clip272)\" style=\"stroke:#000000; stroke-linecap:butt; stroke-linejoin:round; stroke-width:2; stroke-opacity:0.1; fill:none\" points=\"\n",
       "  193.936,851.864 984.119,596.81 \n",
       "  \"/>\n",
       "<polyline clip-path=\"url(#clip272)\" style=\"stroke:#000000; stroke-linecap:butt; stroke-linejoin:round; stroke-width:2; stroke-opacity:0.1; fill:none\" points=\"\n",
       "  984.119,596.81 2352.76,681.828 \n",
       "  \"/>\n",
       "<polyline clip-path=\"url(#clip272)\" style=\"stroke:#000000; stroke-linecap:butt; stroke-linejoin:round; stroke-width:2; stroke-opacity:0.1; fill:none\" points=\"\n",
       "  193.936,592.635 984.119,337.581 \n",
       "  \"/>\n",
       "<polyline clip-path=\"url(#clip272)\" style=\"stroke:#000000; stroke-linecap:butt; stroke-linejoin:round; stroke-width:2; stroke-opacity:0.1; fill:none\" points=\"\n",
       "  984.119,337.581 2352.76,422.599 \n",
       "  \"/>\n",
       "<polyline clip-path=\"url(#clip272)\" style=\"stroke:#000000; stroke-linecap:butt; stroke-linejoin:round; stroke-width:2; stroke-opacity:0.1; fill:none\" points=\"\n",
       "  193.936,333.406 984.119,78.3516 \n",
       "  \"/>\n",
       "<polyline clip-path=\"url(#clip272)\" style=\"stroke:#000000; stroke-linecap:butt; stroke-linejoin:round; stroke-width:2; stroke-opacity:0.1; fill:none\" points=\"\n",
       "  984.119,78.3516 2352.76,163.37 \n",
       "  \"/>\n",
       "<polyline clip-path=\"url(#clip270)\" style=\"stroke:#000000; stroke-linecap:butt; stroke-linejoin:round; stroke-width:4; stroke-opacity:1; fill:none\" points=\"\n",
       "  193.936,1401.43 193.936,302.298 \n",
       "  \"/>\n",
       "<polyline clip-path=\"url(#clip270)\" style=\"stroke:#000000; stroke-linecap:butt; stroke-linejoin:round; stroke-width:4; stroke-opacity:1; fill:none\" points=\"\n",
       "  193.936,1370.32 203.418,1367.26 \n",
       "  \"/>\n",
       "<polyline clip-path=\"url(#clip270)\" style=\"stroke:#000000; stroke-linecap:butt; stroke-linejoin:round; stroke-width:4; stroke-opacity:1; fill:none\" points=\"\n",
       "  193.936,1111.09 203.418,1108.03 \n",
       "  \"/>\n",
       "<polyline clip-path=\"url(#clip270)\" style=\"stroke:#000000; stroke-linecap:butt; stroke-linejoin:round; stroke-width:4; stroke-opacity:1; fill:none\" points=\"\n",
       "  193.936,851.864 203.418,848.803 \n",
       "  \"/>\n",
       "<polyline clip-path=\"url(#clip270)\" style=\"stroke:#000000; stroke-linecap:butt; stroke-linejoin:round; stroke-width:4; stroke-opacity:1; fill:none\" points=\"\n",
       "  193.936,592.635 203.418,589.574 \n",
       "  \"/>\n",
       "<polyline clip-path=\"url(#clip270)\" style=\"stroke:#000000; stroke-linecap:butt; stroke-linejoin:round; stroke-width:4; stroke-opacity:1; fill:none\" points=\"\n",
       "  193.936,333.406 203.418,330.345 \n",
       "  \"/>\n",
       "<path clip-path=\"url(#clip270)\" d=\"M62.9921 1370.77 L92.6679 1370.77 L92.6679 1374.71 L62.9921 1374.71 L62.9921 1370.77 Z\" fill=\"#000000\" fill-rule=\"evenodd\" fill-opacity=\"1\" /><path clip-path=\"url(#clip270)\" d=\"M103.571 1383.67 L111.209 1383.67 L111.209 1357.3 L102.899 1358.97 L102.899 1354.71 L111.163 1353.04 L115.839 1353.04 L115.839 1383.67 L123.478 1383.67 L123.478 1387.6 L103.571 1387.6 L103.571 1383.67 Z\" fill=\"#000000\" fill-rule=\"evenodd\" fill-opacity=\"1\" /><path clip-path=\"url(#clip270)\" d=\"M132.922 1381.72 L137.807 1381.72 L137.807 1387.6 L132.922 1387.6 L132.922 1381.72 Z\" fill=\"#000000\" fill-rule=\"evenodd\" fill-opacity=\"1\" /><path clip-path=\"url(#clip270)\" d=\"M157.992 1356.12 Q154.381 1356.12 152.552 1359.69 Q150.746 1363.23 150.746 1370.36 Q150.746 1377.46 152.552 1381.03 Q154.381 1384.57 157.992 1384.57 Q161.626 1384.57 163.431 1381.03 Q165.26 1377.46 165.26 1370.36 Q165.26 1363.23 163.431 1359.69 Q161.626 1356.12 157.992 1356.12 M157.992 1352.42 Q163.802 1352.42 166.857 1357.02 Q169.936 1361.61 169.936 1370.36 Q169.936 1379.08 166.857 1383.69 Q163.802 1388.27 157.992 1388.27 Q152.181 1388.27 149.103 1383.69 Q146.047 1379.08 146.047 1370.36 Q146.047 1361.61 149.103 1357.02 Q152.181 1352.42 157.992 1352.42 Z\" fill=\"#000000\" fill-rule=\"evenodd\" fill-opacity=\"1\" /><path clip-path=\"url(#clip270)\" d=\"M63.9875 1111.54 L93.6633 1111.54 L93.6633 1115.48 L63.9875 1115.48 L63.9875 1111.54 Z\" fill=\"#000000\" fill-rule=\"evenodd\" fill-opacity=\"1\" /><path clip-path=\"url(#clip270)\" d=\"M113.756 1096.89 Q110.145 1096.89 108.316 1100.46 Q106.51 1104 106.51 1111.13 Q106.51 1118.23 108.316 1121.8 Q110.145 1125.34 113.756 1125.34 Q117.39 1125.34 119.196 1121.8 Q121.024 1118.23 121.024 1111.13 Q121.024 1104 119.196 1100.46 Q117.39 1096.89 113.756 1096.89 M113.756 1093.19 Q119.566 1093.19 122.621 1097.79 Q125.7 1102.38 125.7 1111.13 Q125.7 1119.85 122.621 1124.46 Q119.566 1129.04 113.756 1129.04 Q107.946 1129.04 104.867 1124.46 Q101.811 1119.85 101.811 1111.13 Q101.811 1102.38 104.867 1097.79 Q107.946 1093.19 113.756 1093.19 Z\" fill=\"#000000\" fill-rule=\"evenodd\" fill-opacity=\"1\" /><path clip-path=\"url(#clip270)\" d=\"M133.918 1122.49 L138.802 1122.49 L138.802 1128.37 L133.918 1128.37 L133.918 1122.49 Z\" fill=\"#000000\" fill-rule=\"evenodd\" fill-opacity=\"1\" /><path clip-path=\"url(#clip270)\" d=\"M149.033 1093.81 L167.39 1093.81 L167.39 1097.75 L153.316 1097.75 L153.316 1106.22 Q154.334 1105.87 155.353 1105.71 Q156.371 1105.53 157.39 1105.53 Q163.177 1105.53 166.556 1108.7 Q169.936 1111.87 169.936 1117.29 Q169.936 1122.86 166.464 1125.97 Q162.992 1129.04 156.672 1129.04 Q154.496 1129.04 152.228 1128.67 Q149.982 1128.3 147.575 1127.56 L147.575 1122.86 Q149.658 1124 151.881 1124.55 Q154.103 1125.11 156.58 1125.11 Q160.584 1125.11 162.922 1123 Q165.26 1120.9 165.26 1117.29 Q165.26 1113.67 162.922 1111.57 Q160.584 1109.46 156.58 1109.46 Q154.705 1109.46 152.83 1109.88 Q150.978 1110.29 149.033 1111.17 L149.033 1093.81 Z\" fill=\"#000000\" fill-rule=\"evenodd\" fill-opacity=\"1\" /><path clip-path=\"url(#clip270)\" d=\"M112.76 837.663 Q109.149 837.663 107.321 841.228 Q105.515 844.769 105.515 851.899 Q105.515 859.005 107.321 862.57 Q109.149 866.112 112.76 866.112 Q116.395 866.112 118.2 862.57 Q120.029 859.005 120.029 851.899 Q120.029 844.769 118.2 841.228 Q116.395 837.663 112.76 837.663 M112.76 833.959 Q118.571 833.959 121.626 838.566 Q124.705 843.149 124.705 851.899 Q124.705 860.626 121.626 865.232 Q118.571 869.815 112.76 869.815 Q106.95 869.815 103.872 865.232 Q100.816 860.626 100.816 851.899 Q100.816 843.149 103.872 838.566 Q106.95 833.959 112.76 833.959 Z\" fill=\"#000000\" fill-rule=\"evenodd\" fill-opacity=\"1\" /><path clip-path=\"url(#clip270)\" d=\"M132.922 863.264 L137.807 863.264 L137.807 869.144 L132.922 869.144 L132.922 863.264 Z\" fill=\"#000000\" fill-rule=\"evenodd\" fill-opacity=\"1\" /><path clip-path=\"url(#clip270)\" d=\"M157.992 837.663 Q154.381 837.663 152.552 841.228 Q150.746 844.769 150.746 851.899 Q150.746 859.005 152.552 862.57 Q154.381 866.112 157.992 866.112 Q161.626 866.112 163.431 862.57 Q165.26 859.005 165.26 851.899 Q165.26 844.769 163.431 841.228 Q161.626 837.663 157.992 837.663 M157.992 833.959 Q163.802 833.959 166.857 838.566 Q169.936 843.149 169.936 851.899 Q169.936 860.626 166.857 865.232 Q163.802 869.815 157.992 869.815 Q152.181 869.815 149.103 865.232 Q146.047 860.626 146.047 851.899 Q146.047 843.149 149.103 838.566 Q152.181 833.959 157.992 833.959 Z\" fill=\"#000000\" fill-rule=\"evenodd\" fill-opacity=\"1\" /><path clip-path=\"url(#clip270)\" d=\"M113.756 578.434 Q110.145 578.434 108.316 581.998 Q106.51 585.54 106.51 592.67 Q106.51 599.776 108.316 603.341 Q110.145 606.883 113.756 606.883 Q117.39 606.883 119.196 603.341 Q121.024 599.776 121.024 592.67 Q121.024 585.54 119.196 581.998 Q117.39 578.434 113.756 578.434 M113.756 574.73 Q119.566 574.73 122.621 579.336 Q125.7 583.92 125.7 592.67 Q125.7 601.397 122.621 606.003 Q119.566 610.586 113.756 610.586 Q107.946 610.586 104.867 606.003 Q101.811 601.397 101.811 592.67 Q101.811 583.92 104.867 579.336 Q107.946 574.73 113.756 574.73 Z\" fill=\"#000000\" fill-rule=\"evenodd\" fill-opacity=\"1\" /><path clip-path=\"url(#clip270)\" d=\"M133.918 604.035 L138.802 604.035 L138.802 609.915 L133.918 609.915 L133.918 604.035 Z\" fill=\"#000000\" fill-rule=\"evenodd\" fill-opacity=\"1\" /><path clip-path=\"url(#clip270)\" d=\"M149.033 575.355 L167.39 575.355 L167.39 579.29 L153.316 579.29 L153.316 587.762 Q154.334 587.415 155.353 587.253 Q156.371 587.068 157.39 587.068 Q163.177 587.068 166.556 590.239 Q169.936 593.41 169.936 598.827 Q169.936 604.406 166.464 607.508 Q162.992 610.586 156.672 610.586 Q154.496 610.586 152.228 610.216 Q149.982 609.846 147.575 609.105 L147.575 604.406 Q149.658 605.54 151.881 606.096 Q154.103 606.651 156.58 606.651 Q160.584 606.651 162.922 604.545 Q165.26 602.438 165.26 598.827 Q165.26 595.216 162.922 593.11 Q160.584 591.003 156.58 591.003 Q154.705 591.003 152.83 591.42 Q150.978 591.836 149.033 592.716 L149.033 575.355 Z\" fill=\"#000000\" fill-rule=\"evenodd\" fill-opacity=\"1\" /><path clip-path=\"url(#clip270)\" d=\"M103.571 346.751 L111.209 346.751 L111.209 320.385 L102.899 322.052 L102.899 317.793 L111.163 316.126 L115.839 316.126 L115.839 346.751 L123.478 346.751 L123.478 350.686 L103.571 350.686 L103.571 346.751 Z\" fill=\"#000000\" fill-rule=\"evenodd\" fill-opacity=\"1\" /><path clip-path=\"url(#clip270)\" d=\"M132.922 344.806 L137.807 344.806 L137.807 350.686 L132.922 350.686 L132.922 344.806 Z\" fill=\"#000000\" fill-rule=\"evenodd\" fill-opacity=\"1\" /><path clip-path=\"url(#clip270)\" d=\"M157.992 319.205 Q154.381 319.205 152.552 322.769 Q150.746 326.311 150.746 333.441 Q150.746 340.547 152.552 344.112 Q154.381 347.654 157.992 347.654 Q161.626 347.654 163.431 344.112 Q165.26 340.547 165.26 333.441 Q165.26 326.311 163.431 322.769 Q161.626 319.205 157.992 319.205 M157.992 315.501 Q163.802 315.501 166.857 320.107 Q169.936 324.691 169.936 333.441 Q169.936 342.167 166.857 346.774 Q163.802 351.357 157.992 351.357 Q152.181 351.357 149.103 346.774 Q146.047 342.167 146.047 333.441 Q146.047 324.691 149.103 320.107 Q152.181 315.501 157.992 315.501 Z\" fill=\"#000000\" fill-rule=\"evenodd\" fill-opacity=\"1\" /><polyline clip-path=\"url(#clip272)\" style=\"stroke:#000000; stroke-linecap:butt; stroke-linejoin:round; stroke-width:4; stroke-opacity:1; fill:none\" points=\"\n",
       "  627.762,726.743 1918.93,806.949 \n",
       "  \"/>\n",
       "<polyline clip-path=\"url(#clip272)\" style=\"stroke:#000000; stroke-linecap:butt; stroke-linejoin:round; stroke-width:4; stroke-opacity:1; fill:none\" points=\"\n",
       "  900.618,887.155 1646.07,646.537 \n",
       "  \"/>\n",
       "<polyline clip-path=\"url(#clip272)\" style=\"stroke:#000000; stroke-linecap:butt; stroke-linejoin:round; stroke-width:4; stroke-opacity:1; fill:none\" points=\"\n",
       "  1273.35,1285.3 1273.35,248.388 \n",
       "  \"/>\n",
       "<polyline clip-path=\"url(#clip272)\" style=\"stroke:#0000ff; stroke-linecap:butt; stroke-linejoin:round; stroke-width:4; stroke-opacity:1; fill:none\" points=\"\n",
       "  1273.35,766.846 1485.69,384.57 \n",
       "  \"/>\n",
       "<polyline clip-path=\"url(#clip272)\" style=\"stroke:#ff0000; stroke-linecap:butt; stroke-linejoin:round; stroke-width:4; stroke-opacity:1; fill:none\" points=\"\n",
       "  1273.35,766.846 1268.77,1184.94 \n",
       "  \"/>\n",
       "<polyline clip-path=\"url(#clip272)\" style=\"stroke:#ff0000; stroke-linecap:butt; stroke-linejoin:round; stroke-width:4; stroke-opacity:1; fill:none\" stroke-dasharray=\"2, 4\" points=\"\n",
       "  1353.66,771.835 1268.77,1184.94 \n",
       "  \"/>\n",
       "<polyline clip-path=\"url(#clip272)\" style=\"stroke:#ff0000; stroke-linecap:butt; stroke-linejoin:round; stroke-width:4; stroke-opacity:1; fill:none\" stroke-dasharray=\"2, 4\" points=\"\n",
       "  1188.45,794.248 1268.77,1184.94 \n",
       "  \"/>\n",
       "<polyline clip-path=\"url(#clip272)\" style=\"stroke:#ff0000; stroke-linecap:butt; stroke-linejoin:round; stroke-width:4; stroke-opacity:1; fill:none\" stroke-dasharray=\"2, 4\" points=\"\n",
       "  1273.35,1152.55 1268.77,1184.94 \n",
       "  \"/>\n",
       "<polyline clip-path=\"url(#clip272)\" style=\"stroke:#0000ff; stroke-linecap:butt; stroke-linejoin:round; stroke-width:4; stroke-opacity:1; fill:none\" stroke-dasharray=\"2, 4\" points=\"\n",
       "  1313.22,769.323 1485.69,384.57 \n",
       "  \"/>\n",
       "<polyline clip-path=\"url(#clip272)\" style=\"stroke:#0000ff; stroke-linecap:butt; stroke-linejoin:round; stroke-width:4; stroke-opacity:1; fill:none\" stroke-dasharray=\"2, 4\" points=\"\n",
       "  1445.82,711.176 1485.69,384.57 \n",
       "  \"/>\n",
       "<polyline clip-path=\"url(#clip272)\" style=\"stroke:#0000ff; stroke-linecap:butt; stroke-linejoin:round; stroke-width:4; stroke-opacity:1; fill:none\" stroke-dasharray=\"2, 4\" points=\"\n",
       "  1273.35,437.763 1485.69,384.57 \n",
       "  \"/>\n",
       "</svg>\n"
      ]
     },
     "execution_count": 18,
     "metadata": {},
     "output_type": "execute_result"
    }
   ],
   "source": [
    "using Plots\n",
    "\n",
    "\n",
    "plot3d([0], [0], [0], color=\"black\")\n",
    "plot3d!([-1,1], [0,0], [0,0], color=\"black\")\n",
    "plot3d!([0,0], [-1,1], [0,0], color=\"black\")\n",
    "plot3d!([0,0], [0,0], [-1,1], color=\"black\")\n",
    "\n",
    "plot3d!([0,v[1]], [0,v[2]], [0,v[3]], color=\"blue\")\n",
    "plot3d!([0,v2[1]], [0,v2[2]], [0,v2[3]], color=\"red\")\n",
    "\n",
    "points1 = hcat(zeros(3),v)\n",
    "points2 = hcat(zeros(3),v2)\n",
    "\n",
    "plot3d!([v2[1],v2[1]], [0,v2[2]], [0,v2[3]], color=\"red\", linestyle=:dot)\n",
    "plot3d!([0,v2[1]], [v2[2],v2[2]], [0,v2[3]], color=\"red\", linestyle=:dot)\n",
    "plot3d!([0,v2[1]], [0,v2[2]], [v2[3],v2[3]], color=\"red\", linestyle=:dot)\n",
    "\n",
    "\n",
    "plot3d!([v[1],v[1]], [0,v[2]], [0,v[3]], color=\"blue\", linestyle=:dot)\n",
    "plot3d!([0,v[1]], [v[2],v[2]], [0,v[3]], color=\"blue\", linestyle=:dot)\n",
    "plot3d!([0,v[1]], [0,v[2]], [v[3],v[3]], color=\"blue\", linestyle=:dot, legend=false)\n",
    "\n",
    "# plot3d!([0,v2[1]], [0,v2[2]], [0,0], color=\"red\", linestyle=:dot)\n",
    "# plot3d!([0,v2[1]], [0,0], [0,v2[3]], color=\"red\", linestyle=:dot)\n",
    "# plot3d!([0,0], [0,v2[2]], [0,v2[3]], color=\"red\", linestyle=:dot)\n",
    "# plot3d!([0,v2[1]], [v2[2],v2[2]], [0,v2[3]], color=\"red\", linestyle=:dot)\n",
    "# plot3d!([0,v2[1]], [0,v2[2]], [v2[3],v2[3]], color=\"red\", linestyle=:dot)\n"
   ]
  },
  {
   "cell_type": "code",
   "execution_count": null,
   "id": "9485b119-59b4-4ec8-9678-3ebc7e64d39d",
   "metadata": {},
   "outputs": [],
   "source": []
  }
 ],
 "metadata": {
  "kernelspec": {
   "display_name": "Julia 1.5.2",
   "language": "julia",
   "name": "julia-1.5"
  },
  "language_info": {
   "file_extension": ".jl",
   "mimetype": "application/julia",
   "name": "julia",
   "version": "1.5.2"
  }
 },
 "nbformat": 4,
 "nbformat_minor": 5
}
