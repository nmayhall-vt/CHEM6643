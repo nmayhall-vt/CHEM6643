{
 "cells": [
  {
   "cell_type": "code",
   "execution_count": 61,
   "id": "7677a355-a20e-4040-a662-f45fdfe61b2a",
   "metadata": {},
   "outputs": [],
   "source": [
    "import numpy as np\n",
    "import matplotlib.pyplot as plt"
   ]
  },
  {
   "cell_type": "code",
   "execution_count": 132,
   "id": "cc529aa0-a027-4556-be17-31549827e4c1",
   "metadata": {},
   "outputs": [],
   "source": [
    "def wavepacket(g=np.array([.1,.1,.1,.1,.1]), mass=1.0, x=range(10), t=0, k_max=10, psi_x=None):\n",
    "    # omega = k^2/2m\n",
    "    if psi_x == None:\n",
    "        psi_x = np.zeros(len(x), dtype=complex)\n",
    "        \n",
    "    kstep_size = 2*k_max/len(g)\n",
    "#     print(kstep_size)\n",
    "\n",
    "    for gk_idx, gk in enumerate(g):\n",
    "        k = -k_max + kstep_size*gk_idx\n",
    "#         print(k)\n",
    "        for x_idx, xi in enumerate(x):\n",
    "            psi_x[x_idx] += gk * np.exp(1j*k*xi - 1j*t*k*k/(2*mass))\n",
    "    return psi_x/(2*np.pi) "
   ]
  },
  {
   "cell_type": "code",
   "execution_count": 179,
   "id": "6307bb2e-3787-4dc8-9ae8-d231f106eb87",
   "metadata": {},
   "outputs": [
    {
     "data": {
      "image/png": "[encoded data removed]",
      "text/plain": [
       "<Figure size 432x288 with 1 Axes>"
      ]
     },
     "metadata": {
      "needs_background": "light"
     },
     "output_type": "display_data"
    }
   ],
   "source": [
    "from IPython import display\n",
    "import time\n",
    "\n",
    "# %matplotlib notebook\n",
    "\n",
    "x_min = -5\n",
    "x_max = 5\n",
    "tstep = .5\n",
    "k_max = 100\n",
    "nsteps = 20\n",
    "nfreqs = 100\n",
    "x = np.array(range(x_min*nsteps, x_max*nsteps))/nsteps\n",
    "\n",
    "n_tsteps = 50\n",
    "\n",
    "g = np.ones(nfreqs)\n",
    "\n",
    "\n",
    "k_center = 0\n",
    "alpha = .2\n",
    "kstep_size = 2*k_max/len(g)\n",
    "for gi in range(nfreqs):\n",
    "    k = -k_max + gi*kstep_size\n",
    "    g[gi] = np.exp(-(k-k_center)**2/(2*alpha**2))\n",
    "\n",
    "    \n",
    "plt.plot(g);\n",
    "\n",
    "    \n",
    "y_vs_t = []\n",
    "for ti in range(n_tsteps):\n",
    "    y = wavepacket(g=g, x=x ,t=ti*tstep, mass=10, k_max=k_max)\n",
    "#     norm = np.sqrt(np.real(y.conj().dot(y * np.abs(x_min-x_max)/nsteps)))\n",
    "#     y = y / norm\n",
    "    y_vs_t.append(y)\n",
    "\n",
    "\n"
   ]
  },
  {
   "cell_type": "code",
   "execution_count": 180,
   "id": "c9c2e444-3b10-43a9-bb74-c816921bf317",
   "metadata": {},
   "outputs": [
    {
     "data": {
      "image/png": "[encoded data removed]",
      "text/plain": [
       "<Figure size 432x288 with 1 Axes>"
      ]
     },
     "metadata": {
      "needs_background": "light"
     },
     "output_type": "display_data"
    }
   ],
   "source": [
    "norm = np.sqrt(np.real(y_vs_t[0].conj().dot(y_vs_t[0] * np.abs(x_min-x_max)/nsteps)))\n",
    "\n",
    "for ti in range(n_tsteps):\n",
    "\n",
    "    y = y_vs_t[ti]/norm\n",
    "    plt.plot(x,np.real(y))\n",
    "    plt.plot(x,np.imag(y))\n",
    "    plt.plot(x,np.real(y.conj()*y))\n",
    "    axes = plt.gca()\n",
    "#     axes.set_xlim([-10,10])\n",
    "    axes.set_ylim([-.5,.5])\n",
    "    plt.show()\n",
    "    display.clear_output(wait=True)\n",
    "    time.sleep(.1)"
   ]
  },
  {
   "cell_type": "code",
   "execution_count": null,
   "id": "0c566121-b695-4f2e-a3c2-b231d69d1128",
   "metadata": {},
   "outputs": [],
   "source": []
  },
  {
   "cell_type": "code",
   "execution_count": null,
   "id": "7bd6627c-cf75-4d68-87df-3133f30e9f58",
   "metadata": {},
   "outputs": [],
   "source": []
  }
 ],
 "metadata": {
  "kernelspec": {
   "display_name": "Python 3 (ipykernel)",
   "language": "python",
   "name": "python3"
  },
  "language_info": {
   "codemirror_mode": {
    "name": "ipython",
    "version": 3
   },
   "file_extension": ".py",
   "mimetype": "text/x-python",
   "name": "python",
   "nbconvert_exporter": "python",
   "pygments_lexer": "ipython3",
   "version": "3.7.3"
  }
 },
 "nbformat": 4,
 "nbformat_minor": 5
}
